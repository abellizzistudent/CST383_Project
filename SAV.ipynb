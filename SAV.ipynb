{
  "nbformat": 4,
  "nbformat_minor": 0,
  "metadata": {
    "colab": {
      "provenance": [],
      "include_colab_link": true
    },
    "kernelspec": {
      "name": "python3",
      "display_name": "Python 3"
    },
    "language_info": {
      "name": "python"
    }
  },
  "cells": [
    {
      "cell_type": "markdown",
      "metadata": {
        "id": "view-in-github",
        "colab_type": "text"
      },
      "source": [
        "<a href=\"https://colab.research.google.com/github/abellizzistudent/CST383_Project/blob/main/SAV.ipynb\" target=\"_parent\"><img src=\"https://colab.research.google.com/assets/colab-badge.svg\" alt=\"Open In Colab\"/></a>"
      ]
    },
    {
      "cell_type": "code",
      "source": [
        "!pip install pyreadstat"
      ],
      "metadata": {
        "id": "NUksp6XBXCpZ"
      },
      "execution_count": null,
      "outputs": []
    },
    {
      "cell_type": "markdown",
      "source": [],
      "metadata": {
        "id": "-p7rx35BX-Kx"
      }
    },
    {
      "cell_type": "code",
      "execution_count": 3,
      "metadata": {
        "id": "zQyrLczfRBpW"
      },
      "outputs": [],
      "source": [
        "import pandas as pd\n",
        "import numpy as np\n",
        "import seaborn as sns\n",
        "#import pyreadstat\n",
        "from matplotlib import rcParams\n",
        "\n",
        "# allow output to span multiple output lines in the console\n",
        "pd.set_option('display.max_columns', 500)\n",
        "\n",
        "# switch to seaborn default stylistic parameters\n",
        "# see the useful https://seaborn.pydata.org/tutorial/aesthetics.html\n",
        "sns.set()\n",
        "sns.set_context('paper') # 'talk' for slightly larger\n",
        "\n",
        "# change default plot size\n",
        "rcParams['figure.figsize'] = 9,7"
      ]
    },
    {
      "cell_type": "code",
      "source": [
        "from google.colab import drive\n",
        "drive.mount('/content/drive')"
      ],
      "metadata": {
        "id": "IdaC2nBUakt4"
      },
      "execution_count": null,
      "outputs": []
    },
    {
      "cell_type": "markdown",
      "source": [
        "# San Francisco Bite Data 2014-2018"
      ],
      "metadata": {
        "id": "M9W57PEea0Ld"
      }
    },
    {
      "cell_type": "markdown",
      "source": [
        "San Francisco Bite Data, 2014-2018 - Total rows: 3863\n",
        "Exported PDF to Exel via Adobe Acrobat\n",
        "Removed rows that contained only total by breed sections - 267 rows\n",
        "Removed header rows that appeard within the doc as a PDF - 475 rows\n",
        "Split bite severity into two seperate columns - BITE_CODE and BITE_SEVERITY\n",
        "***Retaining both columns for now, both are not necessary since they contain the same infomation\n",
        "Replaced alpha \"U\" code in BITE_SEVERITY for UNKNOWN to 9 to match numeric convention of hte column\n",
        "Removed spaces in BITE_SEVERITY alpha codes for ease of search\n",
        "Removed BITE column because each row value for that column was 1. Each row represents a single event already, column is not necessary.\n",
        "Total Rows: 3626\n",
        "Total Cols: 5\n",
        "Change column names to all lowercase\n",
        "Imported as CSV - sf-raw-data-dog-bites-2014-2018-CLEAN.csv\n"
      ],
      "metadata": {
        "id": "ErtTm5Q4ASyU"
      }
    },
    {
      "cell_type": "code",
      "source": [
        "df_sf = pd.read_csv(\"/content/sf-raw-data-dog-bites-2014-2018-CLEAN.csv\")\n",
        "df_sf.head()\n",
        "###breed_group may be an unnecessary column:\n",
        "#breed_group = df_sf.breed_group\n",
        "#print(breed_group.unique().size)\n",
        "#primary_breed = df_sf.primary_breed\n",
        "#print(primary_breed.unique().size)\n",
        "\n",
        "\n"
      ],
      "metadata": {
        "id": "xbqee7E3YJrV"
      },
      "execution_count": null,
      "outputs": []
    },
    {
      "cell_type": "markdown",
      "source": [
        "# New York Bite Data 2015-2021"
      ],
      "metadata": {
        "id": "YwHLjCNfAJc3"
      }
    },
    {
      "cell_type": "markdown",
      "source": [
        "Removed columns Borough, ZipCode, Species\n",
        "Combined Gender and Spay/Neuter columns to lmatch format of DF_SF gender column\n",
        "Removed Key column and Date of bite column\n",
        "Ages modified to standard values, removed alphas and turned numbers into decimal value in years.\n",
        "Added Bad_Data column to tag potentially bad rows that could be thrown out of the dataset.\n",
        "Added breed_group column to match df_sf dataset and clarify primary_breed values that specify a group.\n",
        "added Multi-Dog column for entries invloving more than one dog in description. Low numbers, may consider dropping these rows.\n",
        "\n",
        "Cleanup is not complete, need to standardize breed column and breed_group column\n",
        "\n",
        "The data does not include whether one dog is a multi-offender. \n",
        "\n"
      ],
      "metadata": {
        "id": "O5pPOcZ8YB35"
      }
    },
    {
      "cell_type": "code",
      "source": [
        "df_ny = pd.read_csv(\"/content/ny-dog-bites-2015-2021-CLEAN.csv\")\n",
        "df_ny.head()"
      ],
      "metadata": {
        "id": "VFONdwiA1wjt"
      },
      "execution_count": null,
      "outputs": []
    }
  ]
}