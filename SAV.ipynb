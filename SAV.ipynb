{
  "nbformat": 4,
  "nbformat_minor": 0,
  "metadata": {
    "colab": {
      "provenance": [],
      "toc_visible": true,
      "include_colab_link": true
    },
    "kernelspec": {
      "name": "python3",
      "display_name": "Python 3"
    },
    "language_info": {
      "name": "python"
    },
    "widgets": {
      "application/vnd.jupyter.widget-state+json": {
        "c2db4bcaa0ce4856850082041b94c277": {
          "model_module": "@jupyter-widgets/output",
          "model_name": "OutputModel",
          "model_module_version": "1.0.0",
          "state": {
            "_dom_classes": [],
            "_model_module": "@jupyter-widgets/output",
            "_model_module_version": "1.0.0",
            "_model_name": "OutputModel",
            "_view_count": null,
            "_view_module": "@jupyter-widgets/output",
            "_view_module_version": "1.0.0",
            "_view_name": "OutputView",
            "layout": "IPY_MODEL_6c2c61cc3aff4731842cbd715df2870f",
            "msg_id": "",
            "outputs": [
              {
                "output_type": "display_data",
                "data": {
                  "text/plain": "Overall \u001b[38;2;114;156;31m━━━━━━━━━━━━━━━━━━━━━━━━━━━━━━━━━━━━━━━━\u001b[0m \u001b[35m100%\u001b[0m \u001b[36m0:00:00\u001b[0m\nKernels \u001b[38;5;237m━━━━━━━━━━━━━━━━━━━━━━━━━━━━━━━━━━━━━━━━\u001b[0m \u001b[35m  0%\u001b[0m \u001b[36m0:00:01\u001b[0m\n",
                  "text/html": "<pre style=\"white-space:pre;overflow-x:auto;line-height:normal;font-family:Menlo,'DejaVu Sans Mono',consolas,'Courier New',monospace\">Overall <span style=\"color: #729c1f; text-decoration-color: #729c1f\">━━━━━━━━━━━━━━━━━━━━━━━━━━━━━━━━━━━━━━━━</span> <span style=\"color: #800080; text-decoration-color: #800080\">100%</span> <span style=\"color: #008080; text-decoration-color: #008080\">0:00:00</span>\nKernels <span style=\"color: #3a3a3a; text-decoration-color: #3a3a3a\">━━━━━━━━━━━━━━━━━━━━━━━━━━━━━━━━━━━━━━━━</span> <span style=\"color: #800080; text-decoration-color: #800080\">  0%</span> <span style=\"color: #008080; text-decoration-color: #008080\">0:00:01</span>\n</pre>\n"
                },
                "metadata": {}
              }
            ]
          }
        },
        "6c2c61cc3aff4731842cbd715df2870f": {
          "model_module": "@jupyter-widgets/base",
          "model_name": "LayoutModel",
          "model_module_version": "1.2.0",
          "state": {
            "_model_module": "@jupyter-widgets/base",
            "_model_module_version": "1.2.0",
            "_model_name": "LayoutModel",
            "_view_count": null,
            "_view_module": "@jupyter-widgets/base",
            "_view_module_version": "1.2.0",
            "_view_name": "LayoutView",
            "align_content": null,
            "align_items": null,
            "align_self": null,
            "border": null,
            "bottom": null,
            "display": null,
            "flex": null,
            "flex_flow": null,
            "grid_area": null,
            "grid_auto_columns": null,
            "grid_auto_flow": null,
            "grid_auto_rows": null,
            "grid_column": null,
            "grid_gap": null,
            "grid_row": null,
            "grid_template_areas": null,
            "grid_template_columns": null,
            "grid_template_rows": null,
            "height": null,
            "justify_content": null,
            "justify_items": null,
            "left": null,
            "margin": null,
            "max_height": null,
            "max_width": null,
            "min_height": null,
            "min_width": null,
            "object_fit": null,
            "object_position": null,
            "order": null,
            "overflow": null,
            "overflow_x": null,
            "overflow_y": null,
            "padding": null,
            "right": null,
            "top": null,
            "visibility": null,
            "width": null
          }
        }
      }
    }
  },
  "cells": [
    {
      "cell_type": "markdown",
      "metadata": {
        "id": "view-in-github",
        "colab_type": "text"
      },
      "source": [
        "<a href=\"https://colab.research.google.com/github/abellizzistudent/CST383_Project/blob/main/SAV.ipynb\" target=\"_parent\"><img src=\"https://colab.research.google.com/assets/colab-badge.svg\" alt=\"Open In Colab\"/></a>"
      ]
    },
    {
      "cell_type": "markdown",
      "source": [
        "# Are Pitbulls one of the most problematic dog Breeds?\n",
        "\n",
        "\n",
        "\n",
        "> by: Anna Bellizzi & Nicole George\n",
        "\n",
        "---\n",
        "\n",
        "\n",
        "\n"
      ],
      "metadata": {
        "id": "-tn1Pw83--P0"
      }
    },
    {
      "cell_type": "code",
      "source": [
        "!pip install pyreadstat\n",
        "#FOR PERFPLOT CELL\n",
        "!pip install perfplot\n",
        "#!wget \"https://cdn.pixabay.com/photo/2021/02/12/02/01/rosebud-6006985_1280.jpg\""
      ],
      "metadata": {
        "id": "NUksp6XBXCpZ",
        "colab": {
          "base_uri": "https://localhost:8080/"
        },
        "outputId": "e7c5615d-c9b1-4bb5-d359-f7c6c861c455"
      },
      "execution_count": 6,
      "outputs": [
        {
          "output_type": "stream",
          "name": "stdout",
          "text": [
            "Looking in indexes: https://pypi.org/simple, https://us-python.pkg.dev/colab-wheels/public/simple/\n",
            "Requirement already satisfied: pyreadstat in /usr/local/lib/python3.8/dist-packages (1.2.1)\n",
            "Requirement already satisfied: pandas>=1.2.0 in /usr/local/lib/python3.8/dist-packages (from pyreadstat) (1.3.5)\n",
            "Requirement already satisfied: numpy>=1.17.3 in /usr/local/lib/python3.8/dist-packages (from pandas>=1.2.0->pyreadstat) (1.22.4)\n",
            "Requirement already satisfied: pytz>=2017.3 in /usr/local/lib/python3.8/dist-packages (from pandas>=1.2.0->pyreadstat) (2022.7.1)\n",
            "Requirement already satisfied: python-dateutil>=2.7.3 in /usr/local/lib/python3.8/dist-packages (from pandas>=1.2.0->pyreadstat) (2.8.2)\n",
            "Requirement already satisfied: six>=1.5 in /usr/local/lib/python3.8/dist-packages (from python-dateutil>=2.7.3->pandas>=1.2.0->pyreadstat) (1.15.0)\n",
            "Looking in indexes: https://pypi.org/simple, https://us-python.pkg.dev/colab-wheels/public/simple/\n",
            "Requirement already satisfied: perfplot in /usr/local/lib/python3.8/dist-packages (0.10.2)\n",
            "Requirement already satisfied: matplotlib in /usr/local/lib/python3.8/dist-packages (from perfplot) (3.5.3)\n",
            "Requirement already satisfied: numpy in /usr/local/lib/python3.8/dist-packages (from perfplot) (1.22.4)\n",
            "Requirement already satisfied: rich in /usr/local/lib/python3.8/dist-packages (from perfplot) (13.3.1)\n",
            "Requirement already satisfied: matplotx in /usr/local/lib/python3.8/dist-packages (from perfplot) (0.3.10)\n",
            "Requirement already satisfied: pillow>=6.2.0 in /usr/local/lib/python3.8/dist-packages (from matplotlib->perfplot) (7.1.2)\n",
            "Requirement already satisfied: packaging>=20.0 in /usr/local/lib/python3.8/dist-packages (from matplotlib->perfplot) (23.0)\n",
            "Requirement already satisfied: pyparsing>=2.2.1 in /usr/local/lib/python3.8/dist-packages (from matplotlib->perfplot) (3.0.9)\n",
            "Requirement already satisfied: fonttools>=4.22.0 in /usr/local/lib/python3.8/dist-packages (from matplotlib->perfplot) (4.38.0)\n",
            "Requirement already satisfied: python-dateutil>=2.7 in /usr/local/lib/python3.8/dist-packages (from matplotlib->perfplot) (2.8.2)\n",
            "Requirement already satisfied: kiwisolver>=1.0.1 in /usr/local/lib/python3.8/dist-packages (from matplotlib->perfplot) (1.4.4)\n",
            "Requirement already satisfied: cycler>=0.10 in /usr/local/lib/python3.8/dist-packages (from matplotlib->perfplot) (0.11.0)\n",
            "Requirement already satisfied: pygments<3.0.0,>=2.14.0 in /usr/local/lib/python3.8/dist-packages (from rich->perfplot) (2.14.0)\n",
            "Requirement already satisfied: typing-extensions<5.0,>=4.0.0 in /usr/local/lib/python3.8/dist-packages (from rich->perfplot) (4.5.0)\n",
            "Requirement already satisfied: markdown-it-py<3.0.0,>=2.1.0 in /usr/local/lib/python3.8/dist-packages (from rich->perfplot) (2.2.0)\n",
            "Requirement already satisfied: mdurl~=0.1 in /usr/local/lib/python3.8/dist-packages (from markdown-it-py<3.0.0,>=2.1.0->rich->perfplot) (0.1.2)\n",
            "Requirement already satisfied: six>=1.5 in /usr/local/lib/python3.8/dist-packages (from python-dateutil>=2.7->matplotlib->perfplot) (1.15.0)\n"
          ]
        }
      ]
    },
    {
      "cell_type": "code",
      "execution_count": 7,
      "metadata": {
        "id": "zQyrLczfRBpW"
      },
      "outputs": [],
      "source": [
        "import pandas as pd\n",
        "import numpy as np\n",
        "import seaborn as sns\n",
        "import pyreadstat\n",
        "from matplotlib import rcParams\n",
        "from sklearn.model_selection import train_test_split\n",
        "from sklearn.neighbors import KNeighborsClassifier, KNeighborsRegressor\n",
        "from sklearn.preprocessing import StandardScaler\n",
        "from scipy.stats import zscore\n",
        "import matplotlib.pyplot as plt\n",
        "import tarfile\n",
        "import perfplot\n",
        "import cv2\n",
        "from sklearn.linear_model import LinearRegression\n",
        "from scipy import stats\n",
        "#for normalization\n",
        "from sklearn import preprocessing\n",
        "\n",
        "\n",
        "# allow output to span multiple output lines in the console\n",
        "pd.set_option('display.max_columns', 500)\n",
        "\n",
        "# switch to seaborn default stylistic parameters\n",
        "# see the useful https://seaborn.pydata.org/tutorial/aesthetics.html\n",
        "sns.set()\n",
        "sns.set_context('paper') # 'talk' for slightly larger\n",
        "\n",
        "# change default plot size\n",
        "rcParams['figure.figsize'] = 9,7"
      ]
    },
    {
      "cell_type": "code",
      "source": [
        "from google.colab import drive\n",
        "drive.mount('/content/drive')\n",
        "# /content/drive/Shareddrives/Data Science Project/DogBiteData/ny-dog-bites-2015-2021-CLEAN.csv\n",
        "#dog bite data\n",
        "\n",
        "#/content/drive/Shareddrives/Data Science Project/DogBiteData/sf-raw-data-dog-bites-2014-2018-CLEAN.csv\n",
        "#sf raw dog bite data"
      ],
      "metadata": {
        "id": "IdaC2nBUakt4",
        "colab": {
          "base_uri": "https://localhost:8080/"
        },
        "outputId": "19d472ca-6f37-4ce3-8fb8-d1a7e9487688"
      },
      "execution_count": 9,
      "outputs": [
        {
          "output_type": "stream",
          "name": "stdout",
          "text": [
            "Drive already mounted at /content/drive; to attempt to forcibly remount, call drive.mount(\"/content/drive\", force_remount=True).\n"
          ]
        }
      ]
    },
    {
      "cell_type": "markdown",
      "source": [
        "#DATA aquisition and cleanup"
      ],
      "metadata": {
        "id": "e7svUz0_i6-p"
      }
    },
    {
      "cell_type": "code",
      "source": [
        "#WHEN PROJECT IS RUN IN WEB/COLAB/DOWNLOAD OR BROWSER BY ANNA OR NICLE< RUN THIS\n",
        "#Read in San Francisco Dataset\n",
        "df_sf = pd.read_csv(\"/content/drive/Shareddrives/Data Science Project/DogBiteData/sf-raw-data-dog-bites-2014-2018-CLEAN.csv\")\n",
        "\n",
        "#Read in New York Dataset\n",
        "df_ny = pd.read_csv(\"/content/drive/Shareddrives/Data Science Project/DogBiteData/ny-dog-bites-2015-2021-CLEAN.csv\")\n",
        "\n",
        "#Read in merged dataset, San Francisco and New York combined CSV\n",
        "df_md = pd.read_csv(\"/content/drive/Shareddrives/Data Science Project/DogBiteData/merged-bite-data-CLEAN.csv\")\n",
        "\n",
        "#Read in Breeds Enriched Dataset\n",
        "df_be = pd.read_csv(\"/content/drive/Shareddrives/Data Science Project/DogBiteData/dog breeds_enriched_20210503 - dog breeds_enriched_20210503-2.csv\")"
      ],
      "metadata": {
        "id": "wCFpP95IjjY2"
      },
      "execution_count": 10,
      "outputs": []
    },
    {
      "cell_type": "code",
      "source": [
        "#WHEN PROJECT IS RUN IN GITHUB RUN THIS\n",
        "#Read in San Francisco Dataset\n",
        "df_sf = pd.read_csv(\"/data/sf-raw-data-dog-bites-2014-2018-CLEAN.csv\")\n",
        "\n",
        "#Read in New York Dataset\n",
        "df_ny = pd.read_csv(\"/data/ny-dog-bites-2015-2021-CLEAN.csv\")\n",
        "\n",
        "#Read in merged dataset, San Francisco and New York combined CSV\n",
        "df_md = pd.read_csv(\"/data/DogBiteData/merged-bite-data-CLEAN.csv\")\n",
        "\n",
        "#Read in Breeds Enriched Dataset\n",
        "df_be = pd.read_csv(\"/data/dog breeds_enriched_20210503 - dog breeds_enriched_20210503-2.csv\")"
      ],
      "metadata": {
        "id": "RwUjjGJcON2I"
      },
      "execution_count": null,
      "outputs": []
    },
    {
      "cell_type": "markdown",
      "source": [
        "Stanford Dogs Dataset Images of Dog Breeds"
      ],
      "metadata": {
        "id": "qcxmS67ioB-R"
      }
    },
    {
      "cell_type": "code",
      "source": [
        "#Since this is a tarfile I am having trouble opening it, it was only going to be used for aestetic purposes. \n",
        "#I will continue working on this before the project is due.\n",
        "#df_st = pd.read_csv('/lists.tar', compression='gzip', header=0, sep=' ', quotechar='\"', error_bad_lines=False)\n",
        "#OPEN TAR WITH WINZIP\n",
        "#import tarfile\n",
        "#tar = tarfile.open(\"/content/drive/Shareddrives/Data Science Project/DogBiteData/images.tar\", \"r\")\n",
        "#tar.extractall()\n"
      ],
      "metadata": {
        "id": "hdxzr-4FF-oa"
      },
      "execution_count": 11,
      "outputs": []
    },
    {
      "cell_type": "markdown",
      "source": [
        "After reading in the data files, we need to do some merging and numeric value mapping.<br>\n",
        "Most of the data is an object (string) and we need the columns converted to float64 or int64 to make analysis more straightforward.<br>\n",
        "1. Duplicate the object columns; we want to retain the string values that correspond to the new numeric values/columns we are generating\n",
        "2. Create the dictionary \"file\" which maps each unique string object in breed_group_S to a numeric value.\n",
        "3. Traverse the dataframe and write values on key matches from the dictionary.\n",
        "4. Repeat for dataset and gender columns.\n",
        "<br><br> *Because we use this approach, we could not map NaN to NaN using the dictionary. Any values that would map as NaN were mapped as -1. This leaves us with columns reporting zero NaN values.*\n"
      ],
      "metadata": {
        "id": "tL_YrrV3Av4X"
      }
    },
    {
      "cell_type": "code",
      "source": [
        "\"\"\"\n",
        "Compare breed names used in df_md to those in df_be so when we map breed_group\n",
        "strings, they all get a numerical value. Some had to be corrected to match, for\n",
        "example 'PIT BULL' and 'PITTBULL' need to be coded the same, so breed_group\n",
        "strings in df_be were modified to match those in the larger dataset.\n",
        "\"\"\"\n",
        "\n",
        "#sfBreeds = pd.Series(df_sf['breed_group'])\n",
        "#nyBreeds = pd.Series(df_ny['breed_group'])\n",
        "breeds = pd.Series(df_be['breed_group'])\n",
        "df_breeds = pd.Series(df_md['breed_group'])\n",
        "\n",
        "ser = pd.Series(dtype='object')\n",
        "#ser = ser.append(sfBreeds.str.lower())\n",
        "#ser = ser.append(nyBreeds.str.lower())\n",
        "ser = ser.append(breeds.str.upper())\n",
        "ser = ser.append(df_breeds.str.upper())\n",
        "#print(ser.unique())"
      ],
      "metadata": {
        "id": "s5XeVLNoEv1K"
      },
      "execution_count": 12,
      "outputs": []
    },
    {
      "cell_type": "code",
      "source": [
        "#Code modified from source example at https://www.geeksforgeeks.org/replacing-strings-with-numbers-in-python-for-data-analysis/\n",
        "\n",
        "#Create a duplicate so we retain the string vlaues in another col:\n",
        "\n",
        "df_md['breed_group_S'] = df_md.loc[:, 'breed_group']\n",
        "df_md['gender_S'] = df_md.loc[:, 'gender']\n",
        "df_md['dataset_S'] = df_md.loc[:, 'dataset']\n",
        "\n",
        "#Duplicate breed_group_S values into height, weight, lifespan so mapping of those values can occur\n",
        "df_md['average height'] = df_md.loc[:, 'breed_group_S']\n",
        "df_md['average_weight'] = df_md.loc[:, 'breed_group_S']\n",
        "\n",
        "#add lifespan column and populate with breed_group_S so mapping of those values can occur\n",
        "df_md['lifespan'] = df_md.loc[:, 'breed_group_S']\n",
        "\n",
        "# NUMERICALLY CODE breed_group:\n",
        "# creating a dict file \n",
        "\n",
        "breed = {'AFFENPINSCHER': 1,'AFGHAN HOUND': 2,'AIDI': 3,'AIREDALE TERR': 4,'AKBASH DOG': 5,'AKITA': 6,\n",
        "         'ALASK KLEE KAI': 7,'ALASK MALAMUTE': 8,'ALASKAN HUSKY': 9,'AMER BULLDOG': 10,'AMER ESKIMO': 11,\n",
        "         'AMER FOXHOUND': 12,'AMERICAN BULLY': 13,'AMERICAN COCKER SPANIEL': 14,'AMERICAN ESKIMO DOG': 15,\n",
        "         'AMERICAN FOXHOUND': 16,'AMERICAN HAIRLESS TERRIER': 17,'AMERICAN LEOPARD HOUND': 18,\n",
        "         'AMERICAN PIT BULL TERRIER': 19,'AMERICAN STAFFORDSHIRE TERRIER': 20,'AMERICAN WATER SPANIEL': 21,\n",
        "         'ANATOL SHEPHERD': 22,'AUST CATTLE DOG': 23,'AUST KELPIE': 24,'AUST SHEPHERD': 25,'AUST TERRIER': 26,\n",
        "         'AUSTRALIAN CATTLE DOG': 27,'AUSTRALIAN KELPIE': 28,'AUSTRALIAN SHEPHERD': 29,'BARBET': 30,'BASENJI': 31,\n",
        "         'BASSET HOUND': 32,'BEAGLE': 33,'BEARDED COLLIE': 34,'BEAUCERON': 35,'BEDLINGTON TERRIER': 36,\n",
        "         'BELG MALINOIS': 37,'BELG SHEEPDOG': 38,'BERNESE HOUND': 39,'BERNESE MTN DOG': 40,'BICHON FRISE': 41,\n",
        "         'BLACK & TAN COONHOUND': 42,'BLACK MOUTH CUR': 43,'BLACK RUSSIAN TERRIER': 44,'BLOODHOUND': 45,\n",
        "         'BLUETICK COONHOUND': 46,'BORDER COLLIE': 47,'BORDER TERRIER': 48,'BORZOI': 49,'BOSTON TERRIER': 50,\n",
        "         'BOUV FLANDRES': 51,'BOXER': 52,'BOYKIN SPANIEL': 53,'BRIARD': 54,'BRITTANY': 55,'BRUSS GRIFFON': 56,\n",
        "         'BULL TERR MIN': 57,'BULL TERRIER': 58,'BULLDOG': 59,'BULLMASTIFF': 60,'CAIRN TERRIER': 61,'CANAAN DOG': 62,\n",
        "         'CANE CORSO': 63,'CARDIGAN WELSH CORGI': 64,'CAROLINA DOG': 65,'CATAHOULA': 66,'CAVALIER SPAN': 67,\n",
        "         'CHESA BAY RETR': 68,'CHIHUAHUA': 69,'CHINESE CRESTED': 70,'CHINESE SHARPEI': 71,'CHOW CHOW': 72,\n",
        "         'CLUMBER SPANIEL': 73,'COCKER SPAN': 74,'COLLIE ROUGH': 75,'COLLIE SMOOTH': 76,'COTON DE TULEAR': 77,\n",
        "         'COYOTE HYBRID': 78,'CURLY COATED RETRIEVER': 79,'DACHSHUND': 80,'DALMATIAN': 81,'DANDIE DINMONT TERRIER': 82,\n",
        "         'DANISH-SWEDISH FARMDOG': 83,'DOBERMAN PINSCH': 84,'DOGO ARGENTINO': 85,'DOGUE DE BORDX': 86,'DUTCH SHEEPDOG': 87,\n",
        "         'DUTCH SHEPHERD': 88,'ENG BULLDOG': 89,'ENG COCKER SPAN': 90,'ENG POINTER': 91,'ENG SHEPHERD': 92,\n",
        "         'ENG SPRNGR SPAN': 93,'ENGLISH BULLDOG': 94,'ENGLISH COONHOUND': 95,'ENGLISH FOXHOUND': 96,'ENGLISH SETTER': 97,\n",
        "         'ENGLISH SHEPHERD': 98,'ENGLISH TOY SPANIEL': 99,'FIELD SPANIEL': 100,'FINNISH SPITZ': 101,'FLAT COAT RETR': 102,\n",
        "         'FOX TERR SMOOTH': 103,'FOX TERR WIRE': 104,'FRENCH BULLDOG': 105,'GERM SH POINT': 106,'GERM SHEPHERD': 107,\n",
        "         'GERM WH POINT': 108,'GERMAN LONGHAIRED POINTER': 109,'GERMAN PINSCHER': 110,'GERMAN SHEPHERD DOG': 111,\n",
        "         'GERMAN SHORTHAIRED POINTER': 112,'GERMAN WH POINT': 113,'GIANT SCHNAUZER': 114,'GLEN OF IMAAL TERRIER': 115,\n",
        "         'GOLDEN RETR': 116,'GORDON SETTER': 117,'GREAT DANE': 118,'GREAT PYRENEES': 119,'GREATER SWISS MOUNTAIN DOG': 120,\n",
        "         'GREYHOUND': 121,'HARRIER': 122,'HAVANESE': 123,'IBIZAN HOUND': 124,'IRISH SETTER': 125,'IRISH TERRIER': 126,\n",
        "         'IRISH WATER SPANIEL': 127,'IRISH WOLFHOUND': 128,'ITALIAN GREYHOUND': 129,'JACK RUSS TERR': 130,'JAPANESE CHIN': 131,\n",
        "         'JINDO': 132,'KANGAL': 133,'KEESHOND': 134,'KERRY BLUE TERRIER': 135,'KOMONDOR': 136,'KUVASZ': 137,\n",
        "         'LABRADOR RETR': 138,'LAKELAND TERRIER': 139,'LHASA APSO': 140,'MALTESE': 141,'MANCHESTER TERR': 142,'MASTIFF': 143,\n",
        "         'MEX HAIRLESS': 144,'MIN PINSCHER': 145,'MINIATURE BULL TERRIER': 146,'MINIATURE PINSCHER': 147,'MIX': 148,\n",
        "         'NEAPOLITAN MASTIFF': 149,'NEDERLANDSE KOOIKERHONDJE': 150,'NEWFOUNDLAND': 151,'NORFOLK TERRIER': 152,\n",
        "         'NORRBOTTENSPETS': 153,'NORWEGIAN ELKHOUND': 154,'NORWICH TERRIER': 155,'NOVA SCOTIA DUCK TOLLING RETRIEVER': 156,\n",
        "         'NS DUCK TOLLING': 157,'OLDE ENGLISH BULLDOGGE': 158,'OLDENG SHEEPDOG': 159,'OTHER': 160,'OTTERHOUND': 161,\n",
        "         'PAPILLON': 162,'PARSON RUSS TER': 163,'PATTERDALE TERRIER': 164,'PEKINGESE': 165,'PEMBROKE WELSH CORGI': 166,\n",
        "         'PERRO DE PRESA CANARIO': 167,'PERUVIAN INCA ORCHID': 168,'PETIT BASSET GRIFFON VENDEEN': 169,'PHARAOH HOUND': 170,\n",
        "         'PIT BULL': 171,'PLOTT HOUND': 172,'POINTER': 173,'POLISH LOWLAND SHEEPDOG': 174,'POMERANIAN': 175,'POODLE MIN': 176,\n",
        "         'POODLE STND': 177,'POODLE TOY': 178,'PORT WATER DOG': 179,'PRESA CANARIO': 180,'PUG': 181,'PULI': 182,'PUMI': 183,\n",
        "         'RAT TERRIER': 184,'REDBONE HOUND': 185,'RETRIEVER': 186,'RHOD RIDGEBACK': 187,'ROTTWEILER': 188,'SAINT BERNARD': 189,\n",
        "         'SALUKI': 190,'SAMOYED': 191,'SC WHEAT TERR': 192,'SCHAPENDOES': 193,'SCHIPPERKE': 194,'SCHNAUZER': 195,\n",
        "         'SCHNAUZER GIANT': 196,'SCHNAUZER MIN': 197,'SCHNAUZER STAND': 198,'SCOT TERRIER': 199,'SCOTTISH DEERHOUND': 200,\n",
        "         'SEALYHAM TERRIER': 201,'SHARPEI': 202,'SHETLD SHEEPDOG': 203,'SHIBA INU': 204,'SHIH TZU': 205,'SIBERIAN HUSKY': 206,\n",
        "         'SILKY TERRIER': 207,'SKYE TERRIER': 208,'SMOOTH FOX TERRIER': 209,'SOFT-COATED': 210,'SPANIEL': 211,\n",
        "         'SPINONE ITALIANO': 212,'ST BERNARD RGH': 213,'STAFFORDSHIRE': 214,'SUSSEX SPANIEL': 215,'SWISS HOUND': 216,\n",
        "         'TERRIER': 217,'TIBETAN MASTIFF': 218,'TIBETAN SPANIEL': 219,'TIBETAN TERR': 220,'TOY FOX TERRIER': 221,\n",
        "         'TR WALKER HOUND': 222,'TREEING TENNESSEE BRINDLE': 223,'TREEING WALKER COONHOUND': 224,'UNKNOWN': 225,\n",
        "         'VIZSLA': 226,'WEIMARANER': 227,'WELSH CORGI': 228,'WELSH CORGI CAR': 229,'WELSH CORGI PEM': 230,\n",
        "         'WELSH SPRINGER SPANIEL': 231,'WELSH TERRIER': 232,'WEST HIGHLAND': 233,'WEST HIGHLAND WHITE TERRIER': 234,\n",
        "         'WH PT GRIFFON': 235,'WHEATEN TERRIER': 236,'WHIPPET': 237,'WIRE FOX TERRIER': 238,\n",
        "         'WIREHAIRED POINTING GRIFFON': 239,'YORKSHIRE TERR': 240,'POODLE': 241}\n",
        "  \n",
        "# traversing through dataframe breed column and writing values where key matches\n",
        "df_md.breed_group = [breed[item] for item in df_md.breed_group]"
      ],
      "metadata": {
        "id": "KTSIcAuzSxzF"
      },
      "execution_count": 13,
      "outputs": []
    },
    {
      "cell_type": "code",
      "source": [
        "# NUMERICALLY CODE gender:\n",
        "# creating a dict file \n",
        "\n",
        "gender = {'M': 1, 'N': 1, 'F': 2, 'S': 2, np.nan: 0}\n",
        "\n",
        "# traversing through dataframe breed column and writing values where key matches\n",
        "df_md[\"gender\"] = df_md[\"gender\"].map(gender)"
      ],
      "metadata": {
        "id": "b6nikV2ZDaTW"
      },
      "execution_count": 14,
      "outputs": []
    },
    {
      "cell_type": "code",
      "source": [
        "# NUMERICALLY CODE dataset:\n",
        "# creating a dict file \n",
        "\n",
        "datasetN = {'sf': 1, 'ny': 2}\n",
        "\n",
        "# traversing through dataframe breed column and writing values where key matches\n",
        "df_md.dataset = [datasetN[item] for item in df_md.dataset]"
      ],
      "metadata": {
        "id": "L-gNOm4yDZFF"
      },
      "execution_count": 15,
      "outputs": []
    },
    {
      "cell_type": "code",
      "source": [
        "# NUMERICALLY CODE average height:\n",
        "# creating a dict file \n",
        "\n",
        "height = {'AFFENPINSCHER': 10.5,'AFGHAN HOUND': 26,'AIDI': 22.25,'AIREDALE TERR': 23,'AKBASH DOG': 30.5,'AKITA': 27,'ALASK KLEE KAI': 17,'ALASK MALAMUTE': 25.5,'ALASKAN HUSKY': 24.5,'AMER BULLDOG': 23.5,'AMER ESKIMO': 0,'AMER FOXHOUND': 0,'AMERICAN BULLY': 18,'AMERICAN COCKER SPANIEL': 14.5,'AMERICAN ESKIMO DOG': 14,'AMERICAN FOXHOUND': 23.5,'AMERICAN HAIRLESS TERRIER': 14,'AMERICAN LEOPARD HOUND': 24,'AMERICAN PIT BULL TERRIER': 19.5,'AMERICAN STAFFORDSHIRE TERRIER': 18,'AMERICAN WATER SPANIEL': 16.5,'ANATOL SHEPHERD': 28,'AUST CATTLE DOG': 18.5,'AUST KELPIE': 18.5,'AUST SHEPHERD': 20.5,'AUST TERRIER': 10.5,'AUSTRALIAN CATTLE DOG': 0,'AUSTRALIAN KELPIE': 0,'AUSTRALIAN SHEPHERD': 0,'BARBET': 21.75,'BASENJI': 16.5,'BASSET HOUND': 13.5,'BEAGLE': 15,'BEARDED COLLIE': 21,'BEAUCERON': 26,'BEDLINGTON TERRIER': 16.5,'BELG MALINOIS': 24,'BELG SHEEPDOG': 24,'BERNESE HOUND': 25.25,'BERNESE MTN DOG': 0,'BICHON FRISE': 10.5,'BLACK & TAN COONHOUND': 24,'BLACK MOUTH CUR': 21,'BLACK RUSSIAN TERRIER': 28,'BLOODHOUND': 25,'BLUETICK COONHOUND': 24,'BORDER COLLIE': 20,'BORDER TERRIER': 13.5,'BORZOI': 30,'BOSTON TERRIER': 15.5,'BOUV FLANDRES': 25.5,'BOXER': 23,'BOYKIN SPANIEL': 16,'BRIARD': 24.5,'BRITTANY': 19,'BRUSS GRIFFON': 8.5,'BULL TERR MIN': 0,'BULL TERRIER': 22,'BULLDOG': 14.5,'BULLMASTIFF': 25.5,'CAIRN TERRIER': 10.5,'CANAAN DOG': 21.5,'CANE CORSO': 25.5,'CARDIGAN WELSH CORGI': 11.5,'CAROLINA DOG': 20.5,'CATAHOULA': 23,'CAVALIER SPAN': 12.5,'CHESA BAY RETR': 23.5,'CHIHUAHUA': 7.5,'CHINESE CRESTED': 11,'CHINESE SHARPEI': 18.5,'CHOW CHOW': 20,'CLUMBER SPANIEL': 18.5,'COCKER SPAN': 0,'COLLIE ROUGH': 0,'COLLIE SMOOTH': 23,'COTON DE TULEAR': 10,'COYOTE HYBRID': 0,'CURLY COATED RETRIEVER': 25,'DACHSHUND': 13,'DALMATIAN': 21.5,'DANDIE DINMONT TERRIER': 9.5,'DANISH-SWEDISH FARMDOG': 13.5,'DOBERMAN PINSCH': 26.5,'DOGO ARGENTINO': 25,'DOGUE DE BORDX': 0,'DUTCH SHEEPDOG': 0,'DUTCH SHEPHERD': 23.75,'ENG BULLDOG': 14.5,'ENG COCKER SPAN': 16.5,'ENG POINTER': 0,'ENG SHEPHERD': 0,'ENG SPRNGR SPAN': 0,'ENGLISH BULLDOG': 0,'ENGLISH COONHOUND': 23.5,'ENGLISH FOXHOUND': 24.5,'ENGLISH SETTER': 24.5,'ENGLISH SHEPHERD': 21,'ENGLISH TOY SPANIEL': 10,'FIELD SPANIEL': 17,'FINNISH SPITZ': 17.5,'FLAT COAT RETR': 23.5,'FOX TERR SMOOTH': 0,'FOX TERR WIRE': 0,'FRENCH BULLDOG': 12,'GERM SH POINT': 23.5,'GERM SHEPHERD': 23.5,'GERM WH POINT': 0,'GERMAN LONGHAIRED POINTER': 25,'GERMAN PINSCHER': 18.5,'GERMAN SHEPHERD DOG': 0,'GERMAN SHORTHAIRED POINTER': 0,'GERMAN WH POINT': 22.5,'GIANT SCHNAUZER': 25.5,'GLEN OF IMAAL TERRIER': 13.25,'GOLDEN RETR': 22,'GORDON SETTER': 25,'GREAT DANE': 31,'GREAT PYRENEES': 28.5,'GREATER SWISS MOUNTAIN DOG': 26,'GREYHOUND': 28.5,'HARRIER': 20,'HAVANESE': 10,'IBIZAN HOUND': 25.5,'IRISH SETTER': 24,'IRISH TERRIER': 18.5,'IRISH WATER SPANIEL': 22.5,'IRISH WOLFHOUND': 30,'ITALIAN GREYHOUND': 13.5,'JACK RUSS TERR': 11,'JAPANESE CHIN': 10,'JINDO': 0,'KANGAL': 30,'KEESHOND': 18.5,'KERRY BLUE TERRIER': 18.5,'KOMONDOR': 26.5,'KUVASZ': 28,'LABRADOR RETR': 23,'LAKELAND TERRIER': 14,'LHASA APSO': 10.5,'MALTESE': 8.5,'MANCHESTER TERR': 15.5,'MASTIFF': 28,'MEX HAIRLESS': 0,'MIN PINSCHER': 0,'MINIATURE BULL TERRIER': 12,'MINIATURE PINSCHER': 11.5,'MIX': 0,'NEAPOLITAN MASTIFF': 27,'NEDERLANDSE KOOIKERHONDJE': 15.5,'NEWFOUNDLAND': 27,'NORFOLK TERRIER': 9.5,'NORRBOTTENSPETS': 17.4,'NORWEGIAN ELKHOUND': 20,'NORWICH TERRIER': 0,'NOVA SCOTIA DUCK TOLLING RETRIEVER': 19,'NS DUCK TOLLING': 0,'OLDE ENGLISH BULLDOGGE': 0,'OLDENG SHEEPDOG': 22.5,'OTHER': 0,'OTTERHOUND': 25.5,'PAPILLON': 9.5,'PARSON RUSS TER': 13.5,'PATTERDALE TERRIER': 12.5,'PEKINGESE': 9,'PEMBROKE WELSH CORGI': 11,'PERRO DE PRESA CANARIO': 24,'PERUVIAN INCA ORCHID': 17.75,'PETIT BASSET GRIFFON VENDEEN': 14,'PHARAOH HOUND': 23,'PIT BULL': 20,'PLOTT HOUND': 23.5,'POINTER': 25.5,'POLISH LOWLAND SHEEPDOG': 18.5,'POMERANIAN': 9.5,'POODLE MIN': 12.5,'POODLE STND': 20,'POODLE TOY': 10,'PORT WATER DOG': 20,'PRESA CANARIO': 0,'PUG': 12,'PULI': 16,'PUMI': 16.75,'RAT TERRIER': 14,'REDBONE HOUND': 24,'RETRIEVER': 0,'RHOD RIDGEBACK': 25.5,'ROTTWEILER': 24.5,'SAINT BERNARD': 30.5,'SALUKI': 25.5,'SAMOYED': 21.5,'SC WHEAT TERR': 0,'SCHAPENDOES': 18,'SCHIPPERKE': 11.5,'SCHNAUZER': 19.5,'SCHNAUZER GIANT': 0,'SCHNAUZER MIN': 0,'SCHNAUZER STAND': 0,'SCOT TERRIER': 0,'SCOTTISH DEERHOUND': 29.5,'SEALYHAM TERRIER': 11,'SHARPEI': 0,'SHETLD SHEEPDOG': 14.5,'SHIBA INU': 15,'SHIH TZU': 9.5,'SIBERIAN HUSKY': 21.5,'SILKY TERRIER': 9.5,'SKYE TERRIER': 8.5,'SMOOTH FOX TERRIER': 15.5,'SOFT-COATED': 0,'SPANIEL': 0,'SPINONE ITALIANO': 25,'ST BERNARD RGH': 0,'STAFFORDSHIRE': 15,'SUSSEX SPANIEL': 14.5,'SWISS HOUND': 0,'TERRIER': 0,'TIBETAN MASTIFF': 27,'TIBETAN SPANIEL': 10,'TIBETAN TERR': 15.5,'TOY FOX TERRIER': 10,'TR WALKER HOUND': 0,'TREEING TENNESSEE BRINDLE': 20,'TREEING WALKER COONHOUND': 23.5,'UNKNOWN': 0,'VIZSLA': 23,'WEIMARANER': 25,'WELSH CORGI': 0,'WELSH CORGI CAR': 0,'WELSH CORGI PEM': 0,'WELSH SPRINGER SPANIEL': 18,'WELSH TERRIER': 15,'WEST HIGHLAND': 0,'WEST HIGHLAND WHITE TERRIER': 11,'WH PT GRIFFON': 0,'WHEATEN TERRIER': 18.5,'WHIPPET': 19.5,'WIRE FOX TERRIER': 15.5,'WIREHAIRED POINTING GRIFFON': 22,'YORKSHIRE TERR': 7,'POODLE': 0}\n",
        "\n",
        "# traversing through dataframe breed column and writing values where key matches\n",
        "df_md[\"average height\"] = df_md[\"average height\"].map(height)"
      ],
      "metadata": {
        "id": "BMQJ3V8N50S_"
      },
      "execution_count": 16,
      "outputs": []
    },
    {
      "cell_type": "code",
      "source": [
        "# NUMERICALLY CODE average_weight:\n",
        "# creating a dict file \n",
        "\n",
        "weight = {'AFFENPINSCHER': 10,'AFGHAN HOUND': 55,'AIDI': 52.5,'AIREDALE TERR': 45,'AKBASH DOG': 107.5,'AKITA': 100,'ALASK KLEE KAI': 19.5,'ALASK MALAMUTE': 99.5,'ALASKAN HUSKY': 47.5,'AMER BULLDOG': 92.5,'AMER ESKIMO': 0,'AMER FOXHOUND': 0,'AMERICAN BULLY': 77.5,'AMERICAN COCKER SPANIEL': 22.5,'AMERICAN ESKIMO DOG': 27.5,'AMERICAN FOXHOUND': 67.5,'AMERICAN HAIRLESS TERRIER': 14,'AMERICAN LEOPARD HOUND': 57.5,'AMERICAN PIT BULL TERRIER': 52.5,'AMERICAN STAFFORDSHIRE TERRIER': 55,'AMERICAN WATER SPANIEL': 35,'ANATOL SHEPHERD': 125,'AUST CATTLE DOG': 41.5,'AUST KELPIE': 41.5,'AUST SHEPHERD': 52.5,'AUST TERRIER': 17.5,'AUSTRALIAN CATTLE DOG': 0,'AUSTRALIAN KELPIE': 0,'AUSTRALIAN SHEPHERD': 0,'BARBET': 50,'BASENJI': 22.5,'BASSET HOUND': 51.5,'BEAGLE': 26.5,'BEARDED COLLIE': 50,'BEAUCERON': 87.5,'BEDLINGTON TERRIER': 20,'BELG MALINOIS': 60,'BELG SHEEPDOG': 60,'BERNESE HOUND': 92.5,'BERNESE MTN DOG': 0,'BICHON FRISE': 12.5,'BLACK & TAN COONHOUND': 75,'BLACK MOUTH CUR': 67.5,'BLACK RUSSIAN TERRIER': 111.5,'BLOODHOUND': 99,'BLUETICK COONHOUND': 62.5,'BORDER COLLIE': 41,'BORDER TERRIER': 13.5,'BORZOI': 80,'BOSTON TERRIER': 18.5,'BOUV FLANDRES': 84.5,'BOXER': 67.5,'BOYKIN SPANIEL': 32.5,'BRIARD': 77.5,'BRITTANY': 37.5,'BRUSS GRIFFON': 10,'BULL TERR MIN': 0,'BULL TERRIER': 52.5,'BULLDOG': 49,'BULLMASTIFF': 110,'CAIRN TERRIER': 15,'CANAAN DOG': 45,'CANE CORSO': 95,'CARDIGAN WELSH CORGI': 31.5,'CAROLINA DOG': 37.5,'CATAHOULA': 72.5,'CAVALIER SPAN': 15.5,'CHESA BAY RETR': 67.5,'CHIHUAHUA': 4,'CHINESE CRESTED': 9,'CHINESE SHARPEI': 50,'CHOW CHOW': 57.5,'CLUMBER SPANIEL': 70,'COCKER SPAN': 0,'COLLIE ROUGH': 0,'COLLIE SMOOTH': 60,'COTON DE TULEAR': 11.5,'COYOTE HYBRID': 0,'CURLY COATED RETRIEVER': 77.5,'DACHSHUND': 22,'DALMATIAN': 58,'DANDIE DINMONT TERRIER': 21,'DANISH-SWEDISH FARMDOG': 17.5,'DOBERMAN PINSCH': 80,'DOGO ARGENTINO': 90,'DOGUE DE BORDX': 0,'DUTCH SHEEPDOG': 0,'DUTCH SHEPHERD': 58.5,'ENG BULLDOG': 49,'ENG COCKER SPAN': 29.5,'ENG POINTER': 0,'ENG SHEPHERD': 0,'ENG SPRNGR SPAN': 0,'ENGLISH BULLDOG': 0,'ENGLISH COONHOUND': 57.5,'ENGLISH FOXHOUND': 55,'ENGLISH SETTER': 62.5,'ENGLISH SHEPHERD': 52.5,'ENGLISH TOY SPANIEL': 11,'FIELD SPANIEL': 42.5,'FINNISH SPITZ': 25,'FLAT COAT RETR': 70,'FOX TERR SMOOTH': 0,'FOX TERR WIRE': 0,'FRENCH BULLDOG': 22,'GERM SH POINT': 57.5,'GERM SHEPHERD': 69,'GERM WH POINT': 0,'GERMAN LONGHAIRED POINTER': 67.5,'GERMAN PINSCHER': 35,'GERMAN SHEPHERD DOG': 0,'GERMAN SHORTHAIRED POINTER': 0,'GERMAN WH POINT': 60,'GIANT SCHNAUZER': 79.5,'GLEN OF IMAAL TERRIER': 36,'GOLDEN RETR': 65,'GORDON SETTER': 62.5,'GREAT DANE': 149.5,'GREAT PYRENEES': 100,'GREATER SWISS MOUNTAIN DOG': 112.5,'GREYHOUND': 65,'HARRIER': 52.5,'HAVANESE': 10.5,'IBIZAN HOUND': 47.5,'IRISH SETTER': 62.5,'IRISH TERRIER': 26,'IRISH WATER SPANIEL': 56.5,'IRISH WOLFHOUND': 107,'ITALIAN GREYHOUND': 10.5,'JACK RUSS TERR': 13.5,'JAPANESE CHIN': 9.5,'JINDO': 0,'KANGAL': 120,'KEESHOND': 50.5,'KERRY BLUE TERRIER': 39,'KOMONDOR': 107.5,'KUVASZ': 92.5,'LABRADOR RETR': 67.5,'LAKELAND TERRIER': 16.5,'LHASA APSO': 15,'MALTESE': 6.5,'MANCHESTER TERR': 17,'MASTIFF': 175,'MEX HAIRLESS': 0,'MIN PINSCHER': 0,'MINIATURE BULL TERRIER': 23,'MINIATURE PINSCHER': 10.5,'MIX': 0,'NEAPOLITAN MASTIFF': 132,'NEDERLANDSE KOOIKERHONDJE': 25,'NEWFOUNDLAND': 126,'NORFOLK TERRIER': 11,'NORRBOTTENSPETS': 25,'NORWEGIAN ELKHOUND': 51.5,'NORWICH TERRIER': 0,'NOVA SCOTIA DUCK TOLLING RETRIEVER': 43,'NS DUCK TOLLING': 0,'OLDE ENGLISH BULLDOGGE': 0,'OLDENG SHEEPDOG': 80,'OTHER': 0,'OTTERHOUND': 102.5,'PAPILLON': 8,'PARSON RUSS TER': 15,'PATTERDALE TERRIER': 13.5,'PEKINGESE': 10,'PEMBROKE WELSH CORGI': 25,'PERRO DE PRESA CANARIO': 113.5,'PERUVIAN INCA ORCHID': 31.75,'PETIT BASSET GRIFFON VENDEEN': 37.5,'PHARAOH HOUND': 50,'PIT BULL': 45,'PLOTT HOUND': 57.5,'POINTER': 59.5,'POLISH LOWLAND SHEEPDOG': 40,'POMERANIAN': 5,'POODLE MIN': 24.5,'POODLE STND': 55,'POODLE TOY': 6,'PORT WATER DOG': 47.5,'PRESA CANARIO': 0,'PUG': 16,'PULI': 28.5,'PUMI': 25,'RAT TERRIER': 22.5,'REDBONE HOUND': 57.5,'RETRIEVER': 0,'RHOD RIDGEBACK': 75,'ROTTWEILER': 112.5,'SAINT BERNARD': 160,'SALUKI': 52.5,'SAMOYED': 50,'SC WHEAT TERR': 0,'SCHAPENDOES': 40.5,'SCHIPPERKE': 14.5,'SCHNAUZER': 39,'SCHNAUZER GIANT': 0,'SCHNAUZER MIN': 0,'SCHNAUZER STAND': 0,'SCOT TERRIER': 0,'SCOTTISH DEERHOUND': 92.5,'SEALYHAM TERRIER': 21.5,'SHARPEI': 0,'SHETLD SHEEPDOG': 17,'SHIBA INU': 20,'SHIH TZU': 13.5,'SIBERIAN HUSKY': 47.5,'SILKY TERRIER': 9,'SKYE TERRIER': 29,'SMOOTH FOX TERRIER': 16.5,'SOFT-COATED': 0,'SPANIEL': 0,'SPINONE ITALIANO': 74,'ST BERNARD RGH': 0,'STAFFORDSHIRE': 31,'SUSSEX SPANIEL': 43,'SWISS HOUND': 0,'TERRIER': 0,'TIBETAN MASTIFF': 115,'TIBETAN SPANIEL': 12,'TIBETAN TERR': 24,'TOY FOX TERRIER': 5.75,'TR WALKER HOUND': 0,'TREEING TENNESSEE BRINDLE': 40,'TREEING WALKER COONHOUND': 60,'UNKNOWN': 0,'VIZSLA': 55,'WEIMARANER': 72.5,'WELSH CORGI': 0,'WELSH CORGI CAR': 0,'WELSH CORGI PEM': 0,'WELSH SPRINGER SPANIEL': 45,'WELSH TERRIER': 20.5,'WEST HIGHLAND': 0,'WEST HIGHLAND WHITE TERRIER': 18.5,'WH PT GRIFFON': 0,'WHEATEN TERRIER': 35,'WHIPPET': 32.5,'WIRE FOX TERRIER': 16.5,'WIREHAIRED POINTING GRIFFON': 52.5,'YORKSHIRE TERR': 5.5,'POODLE': 0}\n",
        "\n",
        "# traversing through dataframe breed column and writing values where key matches\n",
        "df_md[\"average_weight\"] = df_md[\"average_weight\"].map(weight)"
      ],
      "metadata": {
        "id": "bJU8ma868czX"
      },
      "execution_count": 17,
      "outputs": []
    },
    {
      "cell_type": "code",
      "source": [
        "# NUMERICALLY CODE lifespan:\n",
        "# creating a dict file \n",
        "\n",
        "lifespanN = {'AFFENPINSCHER': 13.5,'AFGHAN HOUND': 13.5,'AIDI': 12.5,'AIREDALE TERR': 12.5,'AKBASH DOG': 10,'AKITA': 11.5,'ALASK KLEE KAI': 14.5,'ALASK MALAMUTE': 12,'ALASKAN HUSKY': 12.5,'AMER BULLDOG': 11,'AMER ESKIMO': 0,'AMER FOXHOUND': 0,'AMERICAN BULLY': 11,'AMERICAN COCKER SPANIEL': 12,'AMERICAN ESKIMO DOG': 14,'AMERICAN FOXHOUND': 12,'AMERICAN HAIRLESS TERRIER': 15,'AMERICAN LEOPARD HOUND': 13.5,'AMERICAN PIT BULL TERRIER': 11,'AMERICAN STAFFORDSHIRE TERRIER': 14,'AMERICAN WATER SPANIEL': 12,'ANATOL SHEPHERD': 12,'AUST CATTLE DOG': 14,'AUST KELPIE': 11.5,'AUST SHEPHERD': 13.5,'AUST TERRIER': 13,'AUSTRALIAN CATTLE DOG': 0,'AUSTRALIAN KELPIE': 0,'AUSTRALIAN SHEPHERD': 0,'BARBET': 13,'BASENJI': 13.5,'BASSET HOUND': 12.5,'BEAGLE': 12.5,'BEARDED COLLIE': 13,'BEAUCERON': 11,'BEDLINGTON TERRIER': 13.5,'BELG MALINOIS': 15,'BELG SHEEPDOG': 13,'BERNESE HOUND': 8.5,'BERNESE MTN DOG': 0,'BICHON FRISE': 14.5,'BLACK & TAN COONHOUND': 11,'BLACK MOUTH CUR': 14,'BLACK RUSSIAN TERRIER': 11,'BLOODHOUND': 11,'BLUETICK COONHOUND': 11.5,'BORDER COLLIE': 13.5,'BORDER TERRIER': 13.5,'BORZOI': 11.5,'BOSTON TERRIER': 12,'BOUV FLANDRES': 11,'BOXER': 11,'BOYKIN SPANIEL': 12.5,'BRIARD': 12,'BRITTANY': 13,'BRUSS GRIFFON': 13.5,'BULL TERR MIN': 0,'BULL TERRIER': 12.5,'BULLDOG': 9,'BULLMASTIFF': 8,'CAIRN TERRIER': 14,'CANAAN DOG': 13.5,'CANE CORSO': 10.5,'CARDIGAN WELSH CORGI': 13.5,'CAROLINA DOG': 13.5,'CATAHOULA': 12,'CAVALIER SPAN': 13.5,'CHESA BAY RETR': 11.5,'CHIHUAHUA': 15,'CHINESE CRESTED': 15.5,'CHINESE SHARPEI': 10,'CHOW CHOW': 10,'CLUMBER SPANIEL': 11,'COCKER SPAN': 0,'COLLIE ROUGH': 0,'COLLIE SMOOTH': 13,'COTON DE TULEAR': 17,'COYOTE HYBRID': 0,'CURLY COATED RETRIEVER': 11,'DACHSHUND': 14,'DALMATIAN': 12,'DANDIE DINMONT TERRIER': 13.5,'DANISH-SWEDISH FARMDOG': 12,'DOBERMAN PINSCH': 11,'DOGO ARGENTINO': 12,'DOGUE DE BORDX': 0,'DUTCH SHEEPDOG': 0,'DUTCH SHEPHERD': 12.5,'ENG BULLDOG': 9,'ENG COCKER SPAN': 13,'ENG POINTER': 0,'ENG SHEPHERD': 0,'ENG SPRNGR SPAN': 0,'ENGLISH BULLDOG': 0,'ENGLISH COONHOUND': 11.5,'ENGLISH FOXHOUND': 11.5,'ENGLISH SETTER': 12,'ENGLISH SHEPHERD': 0,'ENGLISH TOY SPANIEL': 11,'FIELD SPANIEL': 12.5,'FINNISH SPITZ': 14,'FLAT COAT RETR': 9,'FOX TERR SMOOTH': 0,'FOX TERR WIRE': 0,'FRENCH BULLDOG': 11,'GERM SH POINT': 11,'GERM SHEPHERD': 13,'GERM WH POINT': 0,'GERMAN LONGHAIRED POINTER': 13,'GERMAN PINSCHER': 13,'GERMAN SHEPHERD DOG': 0,'GERMAN SHORTHAIRED POINTER': 0,'GERMAN WH POINT': 15,'GIANT SCHNAUZER': 13.5,'GLEN OF IMAAL TERRIER': 12.5,'GOLDEN RETR': 11,'GORDON SETTER': 12.5,'GREAT DANE': 8.5,'GREAT PYRENEES': 12.5,'GREATER SWISS MOUNTAIN DOG': 9.5,'GREYHOUND': 11.5,'HARRIER': 13.5,'HAVANESE': 15,'IBIZAN HOUND': 12.5,'IRISH SETTER': 13.5,'IRISH TERRIER': 14,'IRISH WATER SPANIEL': 12.5,'IRISH WOLFHOUND': 7,'ITALIAN GREYHOUND': 14.5,'JACK RUSS TERR': 13,'JAPANESE CHIN': 11,'JINDO': 0,'KANGAL': 13.5,'KEESHOND': 13.5,'KERRY BLUE TERRIER': 13.5,'KOMONDOR': 11,'KUVASZ': 11,'LABRADOR RETR': 11,'LAKELAND TERRIER': 13.5,'LHASA APSO': 13.5,'MALTESE': 13.5,'MANCHESTER TERR': 16,'MASTIFF': 8,'MEX HAIRLESS': 0,'MIN PINSCHER': 0,'MINIATURE BULL TERRIER': 12,'MINIATURE PINSCHER': 14,'MIX': 0,'NEAPOLITAN MASTIFF': 8,'NEDERLANDSE KOOIKERHONDJE': 13.5,'NEWFOUNDLAND': 9.5,'NORFOLK TERRIER': 14,'NORRBOTTENSPETS': 15.5,'NORWEGIAN ELKHOUND': 13.5,'NORWICH TERRIER': 0,'NOVA SCOTIA DUCK TOLLING RETRIEVER': 13,'NS DUCK TOLLING': 0,'OLDE ENGLISH BULLDOGGE': 0,'OLDENG SHEEPDOG': 11,'OTHER': 0,'OTTERHOUND': 11.5,'PAPILLON': 15,'PARSON RUSS TER': 14,'PATTERDALE TERRIER': 12,'PEKINGESE': 13,'PEMBROKE WELSH CORGI': 12.5,'PERRO DE PRESA CANARIO': 10,'PERUVIAN INCA ORCHID': 13,'PETIT BASSET GRIFFON VENDEEN': 13,'PHARAOH HOUND': 13,'PIT BULL': 11,'PLOTT HOUND': 13,'POINTER': 14.5,'POLISH LOWLAND SHEEPDOG': 13,'POMERANIAN': 14,'POODLE MIN': 14,'POODLE STND': 14,'POODLE TOY': 14,'PORT WATER DOG': 12,'PRESA CANARIO': 0,'PUG': 14,'PULI': 12.5,'PUMI': 12.5,'RAT TERRIER': 15,'REDBONE HOUND': 13.5,'RETRIEVER': 0,'RHOD RIDGEBACK': 12,'ROTTWEILER': 9.5,'SAINT BERNARD': 9,'SALUKI': 13.5,'SAMOYED': 13,'SC WHEAT TERR': 0,'SCHAPENDOES': 13.5,'SCHIPPERKE': 13,'SCHNAUZER': 14.5,'SCHNAUZER GIANT': 0,'SCHNAUZER MIN': 0,'SCHNAUZER STAND': 0,'SCOT TERRIER': 0,'SCOTTISH DEERHOUND': 9.5,'SEALYHAM TERRIER': 13,'SHARPEI': 0,'SHETLD SHEEPDOG': 13,'SHIBA INU': 14.5,'SHIH TZU': 14,'SIBERIAN HUSKY': 13,'SILKY TERRIER': 14,'SKYE TERRIER': 13,'SMOOTH FOX TERRIER': 13.5,'SOFT-COATED': 0,'SPANIEL': 0,'SPINONE ITALIANO': 11,'ST BERNARD RGH': 0,'STAFFORDSHIRE': 13,'SUSSEX SPANIEL': 14,'SWISS HOUND': 0,'TERRIER': 0,'TIBETAN MASTIFF': 11,'TIBETAN SPANIEL': 13.5,'TIBETAN TERR': 15.5,'TOY FOX TERRIER': 14,'TR WALKER HOUND': 0,'TREEING TENNESSEE BRINDLE': 11,'TREEING WALKER COONHOUND': 12.5,'UNKNOWN': 0,'VIZSLA': 13,'WEIMARANER': 11.5,'WELSH CORGI': 0,'WELSH CORGI CAR': 0,'WELSH CORGI PEM': 0,'WELSH SPRINGER SPANIEL': 13.5,'WELSH TERRIER': 13.5,'WEST HIGHLAND': 0,'WEST HIGHLAND WHITE TERRIER': 14,'WH PT GRIFFON': 0,'WHEATEN TERRIER': 13,'WHIPPET': 13.5,'WIRE FOX TERRIER': 13.5,'WIREHAIRED POINTING GRIFFON': 13.5,'YORKSHIRE TERR': 13,'POODLE': 0}\n",
        "\n",
        "# traversing through dataframe breed column and writing values where key matches\n",
        "df_md[\"lifespan\"] = df_md[\"lifespan\"].map(lifespanN)"
      ],
      "metadata": {
        "id": "a2yZGo2N8yAw"
      },
      "execution_count": 18,
      "outputs": []
    },
    {
      "cell_type": "code",
      "source": [
        "#reorder columns\n",
        "df_md = df_md[['dataset', 'breed_group', 'breed_group_S', 'primary_breed', 'bite_code', 'bite_severity', 'gender', 'gender_S', 'age', 'average height', 'average_weight', 'lifespan']]\n",
        "\n",
        "#replace NaN values with zero or -1\n",
        "df_md['bite_code'] = df_md.loc[:, 'bite_code'].fillna(-1) #must use -1 because 0 is a valid bite code in the range 0-4\n",
        "df_md['age'] = df_md.loc[:, 'age'].fillna(0)\n",
        "\n",
        "#Make all entries in primary_breed caps\n",
        "df_md['primary_breed'] = df_md['primary_breed'].str.upper()\n",
        "\n",
        "df_md.info()\n",
        "df_md.sample(5)"
      ],
      "metadata": {
        "colab": {
          "base_uri": "https://localhost:8080/",
          "height": 848
        },
        "id": "jW9VpXaciPud",
        "outputId": "2ded9f9a-23da-43a6-8638-c472531710cb"
      },
      "execution_count": 19,
      "outputs": [
        {
          "output_type": "stream",
          "name": "stdout",
          "text": [
            "<class 'pandas.core.frame.DataFrame'>\n",
            "RangeIndex: 21911 entries, 0 to 21910\n",
            "Data columns (total 12 columns):\n",
            " #   Column          Non-Null Count  Dtype  \n",
            "---  ------          --------------  -----  \n",
            " 0   dataset         21911 non-null  int64  \n",
            " 1   breed_group     21911 non-null  int64  \n",
            " 2   breed_group_S   21911 non-null  object \n",
            " 3   primary_breed   21911 non-null  object \n",
            " 4   bite_code       21911 non-null  float64\n",
            " 5   bite_severity   3297 non-null   object \n",
            " 6   gender          21911 non-null  int64  \n",
            " 7   gender_S        15022 non-null  object \n",
            " 8   age             21911 non-null  float64\n",
            " 9   average height  21911 non-null  float64\n",
            " 10  average_weight  21911 non-null  float64\n",
            " 11  lifespan        21911 non-null  float64\n",
            "dtypes: float64(5), int64(3), object(4)\n",
            "memory usage: 2.0+ MB\n"
          ]
        },
        {
          "output_type": "stream",
          "name": "stderr",
          "text": [
            "<ipython-input-19-c97fcb50c864>:5: SettingWithCopyWarning: \n",
            "A value is trying to be set on a copy of a slice from a DataFrame.\n",
            "Try using .loc[row_indexer,col_indexer] = value instead\n",
            "\n",
            "See the caveats in the documentation: https://pandas.pydata.org/pandas-docs/stable/user_guide/indexing.html#returning-a-view-versus-a-copy\n",
            "  df_md['bite_code'] = df_md.loc[:, 'bite_code'].fillna(-1) #must use -1 because 0 is a valid bite code in the range 0-4\n",
            "<ipython-input-19-c97fcb50c864>:6: SettingWithCopyWarning: \n",
            "A value is trying to be set on a copy of a slice from a DataFrame.\n",
            "Try using .loc[row_indexer,col_indexer] = value instead\n",
            "\n",
            "See the caveats in the documentation: https://pandas.pydata.org/pandas-docs/stable/user_guide/indexing.html#returning-a-view-versus-a-copy\n",
            "  df_md['age'] = df_md.loc[:, 'age'].fillna(0)\n",
            "<ipython-input-19-c97fcb50c864>:9: SettingWithCopyWarning: \n",
            "A value is trying to be set on a copy of a slice from a DataFrame.\n",
            "Try using .loc[row_indexer,col_indexer] = value instead\n",
            "\n",
            "See the caveats in the documentation: https://pandas.pydata.org/pandas-docs/stable/user_guide/indexing.html#returning-a-view-versus-a-copy\n",
            "  df_md['primary_breed'] = df_md['primary_breed'].str.upper()\n"
          ]
        },
        {
          "output_type": "execute_result",
          "data": {
            "text/plain": [
              "       dataset  breed_group  breed_group_S                  primary_breed  \\\n",
              "11792        2          148            MIX                  CHIHUAHUA MIX   \n",
              "15266        2           67  CAVALIER SPAN  CAVALIER KING CHARLES SPANIEL   \n",
              "19735        1           69      CHIHUAHUA                   CHIHUAHUA SH   \n",
              "20664        1          138  LABRADOR RETR                  LABRADOR RETR   \n",
              "20492        1          138  LABRADOR RETR                  LABRADOR RETR   \n",
              "\n",
              "       bite_code bite_severity  gender gender_S  age  average height  \\\n",
              "11792       -1.0           NaN       1        N  8.0             0.0   \n",
              "15266       -1.0           NaN       1        N  2.0            12.5   \n",
              "19735        2.0      PROLONGB       1        N  0.0             7.5   \n",
              "20664       -1.0           NaN       1        M  0.0            23.0   \n",
              "20492        0.0       SNGLNIP       2        S  0.0            23.0   \n",
              "\n",
              "       average_weight  lifespan  \n",
              "11792             0.0       0.0  \n",
              "15266            15.5      13.5  \n",
              "19735             4.0      15.0  \n",
              "20664            67.5      11.0  \n",
              "20492            67.5      11.0  "
            ],
            "text/html": [
              "\n",
              "  <div id=\"df-f2f216dc-b491-4e9e-a085-40c64bec4df7\">\n",
              "    <div class=\"colab-df-container\">\n",
              "      <div>\n",
              "<style scoped>\n",
              "    .dataframe tbody tr th:only-of-type {\n",
              "        vertical-align: middle;\n",
              "    }\n",
              "\n",
              "    .dataframe tbody tr th {\n",
              "        vertical-align: top;\n",
              "    }\n",
              "\n",
              "    .dataframe thead th {\n",
              "        text-align: right;\n",
              "    }\n",
              "</style>\n",
              "<table border=\"1\" class=\"dataframe\">\n",
              "  <thead>\n",
              "    <tr style=\"text-align: right;\">\n",
              "      <th></th>\n",
              "      <th>dataset</th>\n",
              "      <th>breed_group</th>\n",
              "      <th>breed_group_S</th>\n",
              "      <th>primary_breed</th>\n",
              "      <th>bite_code</th>\n",
              "      <th>bite_severity</th>\n",
              "      <th>gender</th>\n",
              "      <th>gender_S</th>\n",
              "      <th>age</th>\n",
              "      <th>average height</th>\n",
              "      <th>average_weight</th>\n",
              "      <th>lifespan</th>\n",
              "    </tr>\n",
              "  </thead>\n",
              "  <tbody>\n",
              "    <tr>\n",
              "      <th>11792</th>\n",
              "      <td>2</td>\n",
              "      <td>148</td>\n",
              "      <td>MIX</td>\n",
              "      <td>CHIHUAHUA MIX</td>\n",
              "      <td>-1.0</td>\n",
              "      <td>NaN</td>\n",
              "      <td>1</td>\n",
              "      <td>N</td>\n",
              "      <td>8.0</td>\n",
              "      <td>0.0</td>\n",
              "      <td>0.0</td>\n",
              "      <td>0.0</td>\n",
              "    </tr>\n",
              "    <tr>\n",
              "      <th>15266</th>\n",
              "      <td>2</td>\n",
              "      <td>67</td>\n",
              "      <td>CAVALIER SPAN</td>\n",
              "      <td>CAVALIER KING CHARLES SPANIEL</td>\n",
              "      <td>-1.0</td>\n",
              "      <td>NaN</td>\n",
              "      <td>1</td>\n",
              "      <td>N</td>\n",
              "      <td>2.0</td>\n",
              "      <td>12.5</td>\n",
              "      <td>15.5</td>\n",
              "      <td>13.5</td>\n",
              "    </tr>\n",
              "    <tr>\n",
              "      <th>19735</th>\n",
              "      <td>1</td>\n",
              "      <td>69</td>\n",
              "      <td>CHIHUAHUA</td>\n",
              "      <td>CHIHUAHUA SH</td>\n",
              "      <td>2.0</td>\n",
              "      <td>PROLONGB</td>\n",
              "      <td>1</td>\n",
              "      <td>N</td>\n",
              "      <td>0.0</td>\n",
              "      <td>7.5</td>\n",
              "      <td>4.0</td>\n",
              "      <td>15.0</td>\n",
              "    </tr>\n",
              "    <tr>\n",
              "      <th>20664</th>\n",
              "      <td>1</td>\n",
              "      <td>138</td>\n",
              "      <td>LABRADOR RETR</td>\n",
              "      <td>LABRADOR RETR</td>\n",
              "      <td>-1.0</td>\n",
              "      <td>NaN</td>\n",
              "      <td>1</td>\n",
              "      <td>M</td>\n",
              "      <td>0.0</td>\n",
              "      <td>23.0</td>\n",
              "      <td>67.5</td>\n",
              "      <td>11.0</td>\n",
              "    </tr>\n",
              "    <tr>\n",
              "      <th>20492</th>\n",
              "      <td>1</td>\n",
              "      <td>138</td>\n",
              "      <td>LABRADOR RETR</td>\n",
              "      <td>LABRADOR RETR</td>\n",
              "      <td>0.0</td>\n",
              "      <td>SNGLNIP</td>\n",
              "      <td>2</td>\n",
              "      <td>S</td>\n",
              "      <td>0.0</td>\n",
              "      <td>23.0</td>\n",
              "      <td>67.5</td>\n",
              "      <td>11.0</td>\n",
              "    </tr>\n",
              "  </tbody>\n",
              "</table>\n",
              "</div>\n",
              "      <button class=\"colab-df-convert\" onclick=\"convertToInteractive('df-f2f216dc-b491-4e9e-a085-40c64bec4df7')\"\n",
              "              title=\"Convert this dataframe to an interactive table.\"\n",
              "              style=\"display:none;\">\n",
              "        \n",
              "  <svg xmlns=\"http://www.w3.org/2000/svg\" height=\"24px\"viewBox=\"0 0 24 24\"\n",
              "       width=\"24px\">\n",
              "    <path d=\"M0 0h24v24H0V0z\" fill=\"none\"/>\n",
              "    <path d=\"M18.56 5.44l.94 2.06.94-2.06 2.06-.94-2.06-.94-.94-2.06-.94 2.06-2.06.94zm-11 1L8.5 8.5l.94-2.06 2.06-.94-2.06-.94L8.5 2.5l-.94 2.06-2.06.94zm10 10l.94 2.06.94-2.06 2.06-.94-2.06-.94-.94-2.06-.94 2.06-2.06.94z\"/><path d=\"M17.41 7.96l-1.37-1.37c-.4-.4-.92-.59-1.43-.59-.52 0-1.04.2-1.43.59L10.3 9.45l-7.72 7.72c-.78.78-.78 2.05 0 2.83L4 21.41c.39.39.9.59 1.41.59.51 0 1.02-.2 1.41-.59l7.78-7.78 2.81-2.81c.8-.78.8-2.07 0-2.86zM5.41 20L4 18.59l7.72-7.72 1.47 1.35L5.41 20z\"/>\n",
              "  </svg>\n",
              "      </button>\n",
              "      \n",
              "  <style>\n",
              "    .colab-df-container {\n",
              "      display:flex;\n",
              "      flex-wrap:wrap;\n",
              "      gap: 12px;\n",
              "    }\n",
              "\n",
              "    .colab-df-convert {\n",
              "      background-color: #E8F0FE;\n",
              "      border: none;\n",
              "      border-radius: 50%;\n",
              "      cursor: pointer;\n",
              "      display: none;\n",
              "      fill: #1967D2;\n",
              "      height: 32px;\n",
              "      padding: 0 0 0 0;\n",
              "      width: 32px;\n",
              "    }\n",
              "\n",
              "    .colab-df-convert:hover {\n",
              "      background-color: #E2EBFA;\n",
              "      box-shadow: 0px 1px 2px rgba(60, 64, 67, 0.3), 0px 1px 3px 1px rgba(60, 64, 67, 0.15);\n",
              "      fill: #174EA6;\n",
              "    }\n",
              "\n",
              "    [theme=dark] .colab-df-convert {\n",
              "      background-color: #3B4455;\n",
              "      fill: #D2E3FC;\n",
              "    }\n",
              "\n",
              "    [theme=dark] .colab-df-convert:hover {\n",
              "      background-color: #434B5C;\n",
              "      box-shadow: 0px 1px 3px 1px rgba(0, 0, 0, 0.15);\n",
              "      filter: drop-shadow(0px 1px 2px rgba(0, 0, 0, 0.3));\n",
              "      fill: #FFFFFF;\n",
              "    }\n",
              "  </style>\n",
              "\n",
              "      <script>\n",
              "        const buttonEl =\n",
              "          document.querySelector('#df-f2f216dc-b491-4e9e-a085-40c64bec4df7 button.colab-df-convert');\n",
              "        buttonEl.style.display =\n",
              "          google.colab.kernel.accessAllowed ? 'block' : 'none';\n",
              "\n",
              "        async function convertToInteractive(key) {\n",
              "          const element = document.querySelector('#df-f2f216dc-b491-4e9e-a085-40c64bec4df7');\n",
              "          const dataTable =\n",
              "            await google.colab.kernel.invokeFunction('convertToInteractive',\n",
              "                                                     [key], {});\n",
              "          if (!dataTable) return;\n",
              "\n",
              "          const docLinkHtml = 'Like what you see? Visit the ' +\n",
              "            '<a target=\"_blank\" href=https://colab.research.google.com/notebooks/data_table.ipynb>data table notebook</a>'\n",
              "            + ' to learn more about interactive tables.';\n",
              "          element.innerHTML = '';\n",
              "          dataTable['output_type'] = 'display_data';\n",
              "          await google.colab.output.renderOutput(dataTable, element);\n",
              "          const docLink = document.createElement('div');\n",
              "          docLink.innerHTML = docLinkHtml;\n",
              "          element.appendChild(docLink);\n",
              "        }\n",
              "      </script>\n",
              "    </div>\n",
              "  </div>\n",
              "  "
            ]
          },
          "metadata": {},
          "execution_count": 19
        }
      ]
    },
    {
      "cell_type": "markdown",
      "source": [
        "#Merged Bite Data- SF and NY combined"
      ],
      "metadata": {
        "id": "G5v7k6iAWzVj"
      }
    },
    {
      "cell_type": "markdown",
      "source": [
        "Merged Bite data file includes data from sf and ny datasets.\n",
        "\n",
        "<br>**Data Fields**\n",
        "<br>\n",
        "* *Dataset* - Identifies which dataset the row came from.\n",
        "<br>Data Values: Int sf = 1   ny = 2\n",
        "<br><br>\n",
        "* *breed_group* - Numeric coding of 241 breed_group object/strings.\n",
        "<br>Data Values: Int 1-241\n",
        "<br><br>\n",
        "* *breed_group_S* - The group general group that the primary_breed falls under. For example, a user-entered primary_breed may be \"American Pit Bull Terrier/Pit Bull\" and will thus be part of the \"PIT BULL\" breed_group. A primary_breed description \"Belgian Malinois\" and \"MALINOIS\" are both in breed_group \"BELG MALINOIS\"\n",
        "<br> Data Values: String\n",
        "<br><br>\n",
        "* *primary_breed* - Contains the user-input breed description. This varies in spelling, vernacular, and length, which results in the breed_group being more reliable for categorization, but allows for insight into human perception/descriptions which are useful for our analysis.\n",
        "<br> Data Values: String\n",
        "<br><br>\n",
        "* *bite_code* - Numerical code corresponding to text values in bite_severity column.\n",
        "<br>Data Values: Float 0= SNGLNIP,  1= SNGLB,  2= PROLONGB,  3= MULTIB,  4= MAULING\n",
        "<br><br>\n",
        "* *bite_severity* - Contains descriptor for bite_code values\n",
        "<br>Data Values: SNGLNIP, SNGLB, PROLONGB, MULTIB, MAULING\n",
        "<br><br>\n",
        "* *gender* - Male or Female\n",
        "<br>Data Values: Int 1= MALE, 2= FEMALE\n",
        "<br><br>\n",
        "* *gender_S* - String values for gender. This column also distinguishes between Spay, Neuter, Male and Female.\n",
        "<br>Data Values: M= MALE, N= NEUTERED, F= FEMALE, S=SPAYED, NaN= not provided or known\n",
        "<br><br>\n",
        "* *age* - Scaled to decimal value in years. Inconsistency in age entry fomat required modification of the original column to remove letters expressing Y for years, M for months, fractions and alpha-expressed ages, like one, two-and-a-half, etc.\n",
        "<br>\n",
        "*  Data Values: Float\n",
        "<br>\n",
        "<br>\n",
        "* *average height* - Taken from df_be, average height is decimal values in inches.\n",
        "<br>Data Values: Float\n",
        "<br><br>\n",
        "* *average_weight* - Taken from df_be, average weight is decimal values in pounds.\n",
        "<br>Data Values: Float\n",
        "<br><br>\n",
        "* *lifespan* - Taken from df_be, average lifespan is decimal values in years.\n",
        "<br>Data Values: Float\n",
        "<br><br>\n",
        "* UNKNOWN and \"U\" values were removed and are now reflected as NaN, 0 or -1 depending on the column.\n",
        "<br>\n",
        "* Removed the bad_data column, and removed all rows identified as bad data.\n",
        "removed the original age column that had mixed expressions for age, and simplified to the adjusted age column only, renamed to \"age\".\n",
        "\n",
        "\n"
      ],
      "metadata": {
        "id": "wxraYiFMQ9W3"
      }
    },
    {
      "cell_type": "markdown",
      "source": [
        "# San Francisco Bite Data 2014-2018"
      ],
      "metadata": {
        "id": "M9W57PEea0Ld"
      }
    },
    {
      "cell_type": "markdown",
      "source": [
        "San Francisco Bite Data, 2014-2018 - \n",
        "* Total rows: 3863<br>\n",
        "\n",
        "* Exported PDF to Exel via Adobe Acrobat<br>\n",
        "* Removed rows that contained only total by breed sections - 267 rows<br>\n",
        "* Removed header rows that appeard within the doc as a PDF - 475 rows<br>\n",
        "* Split bite severity into two seperate columns - BITE_CODE and BITE_SEVERITY<br>\n",
        "**Retaining both columns for now, both are not necessary since they contain the same infomation**<br>\n",
        "* Replaced alpha \"U\" code in BITE_SEVERITY for UNKNOWN to 9 to match numeric convention of the column<br>\n",
        "* Removed spaces in BITE_SEVERITY alpha codes for ease of search<br>\n",
        "* Removed BITE column because each row value for that column was 1. * Each row represents a single event already, column is not necessary.<br>\n",
        "\n",
        "\n",
        "---\n",
        "\n",
        "\n",
        "* Total Rows: 3626<br>\n",
        "* Total Cols: 5<br>\n",
        "* Change column names to all lowercase<br>\n",
        "* Imported as CSV - sf-raw-data-dog-bites-2014-2018-CLEAN.csv<br>\n",
        "<br>"
      ],
      "metadata": {
        "id": "ErtTm5Q4ASyU"
      }
    },
    {
      "cell_type": "code",
      "source": [
        "#breed_group = df_sf.breed_group\n",
        "#print(breed_group.unique())\n",
        "#primary_breed = df_sf.primary_breed\n",
        "#print(primary_breed.unique().size)\n",
        "#print(df_sf.head())\n",
        "df_sf.info()\n",
        "df_sf['breed_group'].value_counts().nlargest(10).plot(kind='bar')\n",
        "\n",
        "plt.ylabel(\"Number of Bites\")\n",
        "plt.xlabel(\"Breeds\")"
      ],
      "metadata": {
        "id": "xbqee7E3YJrV",
        "colab": {
          "base_uri": "https://localhost:8080/",
          "height": 755
        },
        "outputId": "d81d688c-2048-4431-bab4-eefd05140fd7"
      },
      "execution_count": 20,
      "outputs": [
        {
          "output_type": "stream",
          "name": "stdout",
          "text": [
            "<class 'pandas.core.frame.DataFrame'>\n",
            "RangeIndex: 3625 entries, 0 to 3624\n",
            "Data columns (total 5 columns):\n",
            " #   Column         Non-Null Count  Dtype \n",
            "---  ------         --------------  ----- \n",
            " 0   breed_group    3625 non-null   object\n",
            " 1   primary_breed  3625 non-null   object\n",
            " 2   bite_code      3625 non-null   int64 \n",
            " 3   bite_severity  3625 non-null   object\n",
            " 4   gender         3625 non-null   object\n",
            "dtypes: int64(1), object(4)\n",
            "memory usage: 141.7+ KB\n"
          ]
        },
        {
          "output_type": "execute_result",
          "data": {
            "text/plain": [
              "Text(0.5, 0, 'Breeds')"
            ]
          },
          "metadata": {},
          "execution_count": 20
        },
        {
          "output_type": "display_data",
          "data": {
            "text/plain": [
              "<Figure size 648x504 with 1 Axes>"
            ],
            "image/png": "[encoded data removed]"
          },
          "metadata": {}
        }
      ]
    },
    {
      "cell_type": "markdown",
      "source": [
        "This bar plot illustrates the number of bites by breed groups in the San Francisco Bite DataSet from 2014-2018.  As you can see, chihuahua passes pitbll by about ~500 bites.  Pit bull is second and surprisingly labrador retriever and german shepherd are tied for third."
      ],
      "metadata": {
        "id": "295kEPCCh9wX"
      }
    },
    {
      "cell_type": "markdown",
      "source": [
        "# New York Bite Data 2015-2021"
      ],
      "metadata": {
        "id": "YwHLjCNfAJc3"
      }
    },
    {
      "cell_type": "markdown",
      "source": [
        "* Removed columns Borough, ZipCode, Species<br>\n",
        "* Combined Gender and Spay/Neuter columns to match format of DF_SF gender column<br>\n",
        "* Removed Key column and Date of bite column<br>\n",
        "* Ages modified to standard values, removed alphas and turned numbers into decimal value in years.<br>\n",
        "* Added Bad_Data column to tag potentially bad rows that could be thrown out of the dataset without tossing them out quite yet.<br>\n",
        "* Added breed_group column to match df_sf dataset and clarify primary_breed values that specify a group.<br>\n",
        "* Added Multi-Dog column for entries invloving more than one dog in description. Low numbers, may consider dropping these rows.<br><br>\n",
        "* Standardized breed column and breed_group column.<br> \n",
        "* About 450 rows out of 22,000 were unable to be categorized, but contain dog descriptions so data was kept and categorized as \"unknown\".\n",
        "<br><br>\n",
        "\n",
        "\n",
        "---\n",
        "\n",
        "\n",
        "* The data does not include whether one dog is a multi-offender, which may or may not be significant for our analysis.<br><br>\n",
        "* This dataset can potentially be joined to the SF dataset on the breed_group\tprimary_breed\tand\tgender columns.<br><br>\n",
        "* We may consider adding a bite_code column with code 1 for all entries. Since an entry here implies an incident it would match up to the existing column in the sf data.\n"
      ],
      "metadata": {
        "id": "O5pPOcZ8YB35"
      }
    },
    {
      "cell_type": "code",
      "source": [
        "#print(df_ny.head())\n",
        "df_ny.info()\n",
        "\n",
        "mean_ny = df_ny[\"breed_group\"].value_counts().mean()\n",
        "print(\"Mean of breed_group\", mean_ny)\n",
        "df_ny['breed_group'].value_counts().nlargest(10).plot(kind='bar')\n",
        "plt.ylabel(\"Number of Bites\")\n",
        "plt.xlabel(\"Breeds\")"
      ],
      "metadata": {
        "id": "VFONdwiA1wjt",
        "colab": {
          "base_uri": "https://localhost:8080/",
          "height": 802
        },
        "outputId": "68beff7f-4515-4881-c125-3bd961887440"
      },
      "execution_count": 21,
      "outputs": [
        {
          "output_type": "stream",
          "name": "stdout",
          "text": [
            "<class 'pandas.core.frame.DataFrame'>\n",
            "RangeIndex: 22663 entries, 0 to 22662\n",
            "Data columns (total 7 columns):\n",
            " #   Column         Non-Null Count  Dtype \n",
            "---  ------         --------------  ----- \n",
            " 0   breed_group    20445 non-null  object\n",
            " 1   primary_breed  20445 non-null  object\n",
            " 2   age            22663 non-null  object\n",
            " 3   modified_age   22658 non-null  object\n",
            " 4   gender         22663 non-null  object\n",
            " 5   multi_dog      22663 non-null  object\n",
            " 6   bad_data       22663 non-null  object\n",
            "dtypes: object(7)\n",
            "memory usage: 1.2+ MB\n",
            "Mean of breed_group 160.98425196850394\n"
          ]
        },
        {
          "output_type": "execute_result",
          "data": {
            "text/plain": [
              "Text(0.5, 0, 'Breeds')"
            ]
          },
          "metadata": {},
          "execution_count": 21
        },
        {
          "output_type": "display_data",
          "data": {
            "text/plain": [
              "<Figure size 648x504 with 1 Axes>"
            ],
            "image/png": "[encoded data removed]"
          },
          "metadata": {}
        }
      ]
    },
    {
      "cell_type": "markdown",
      "source": [
        "As you can tell our pit mix column is leading by more than 5000 bites and our mix followed by our unknown column.  Our shih tzu column is third and chihuahua is tied with german shepherd this time.  This is for the data in New York."
      ],
      "metadata": {
        "id": "NGvJgXuSis6A"
      }
    },
    {
      "cell_type": "markdown",
      "source": [
        "# Scaling Data Comparison using Normalization"
      ],
      "metadata": {
        "id": "sGiRvTKS-ZHv"
      }
    },
    {
      "cell_type": "code",
      "source": [
        "\n",
        "\n",
        "normal_sf = np.array(df_sf['breed_group'].value_counts())\n",
        "normal_ny = np.array(df_ny['breed_group'].value_counts())\n",
        "print(\"San Francisco Breeds: \", normal_sf)\n",
        "print(\"New York Breeds: \", normal_ny)\n",
        "normal_sf1 = preprocessing.normalize([normal_sf])\n",
        "normal_ny1 = preprocessing.normalize([normal_ny])\n",
        "\n",
        "normF_sf1 = (normal_sf1*1000).astype(int)\n",
        "normF_ny1 = (normal_ny1*1000).astype(int)\n",
        "print(\"San Francisco Breeds Normalized: \", normF_sf1)\n",
        "print(\"New York Breeds Normalized: \", normF_ny1)\n",
        "#PROBLEM ( NORMALIZATION NUMBERS TOO SMALL TO PLOT so I multiplied by 10000)\n",
        "\n",
        "#Convert normal to int \n",
        "\n"
      ],
      "metadata": {
        "colab": {
          "base_uri": "https://localhost:8080/"
        },
        "id": "ebRkv451-fkh",
        "outputId": "41ad691d-9aec-4e5c-d4e3-4d8765c4fcca"
      },
      "execution_count": 22,
      "outputs": [
        {
          "output_type": "stream",
          "name": "stdout",
          "text": [
            "San Francisco Breeds:  [1281  719  198  198   56   56   53   43   42   41   39   37   36   34\n",
            "   32   30   30   29   24   23   23   21   21   18   18   17   15   14\n",
            "   14   14   13   13   13   13   12   11   11   11   10   10    9    9\n",
            "    9    8    8    8    8    8    8    7    7    7    7    7    7    7\n",
            "    7    6    6    6    6    6    6    5    5    5    5    4    4    4\n",
            "    4    4    4    4    4    3    3    3    3    3    3    3    3    3\n",
            "    3    3    3    3    2    2    2    2    2    2    2    2    2    2\n",
            "    2    2    2    2    2    2    2    2    2    2    1    1    1    1\n",
            "    1    1    1    1    1    1    1    1    1    1    1    1    1    1\n",
            "    1    1    1    1    1    1    1    1    1    1    1    1    1    1\n",
            "    1    1]\n",
            "New York Breeds:  [5437 4029 2762  732  648  625  488  374  325  316  306  303  264  195\n",
            "  182  170  149  134  134  130  128  121  119  113  112   97   84   81\n",
            "   78   74   72   69   65   64   64   63   61   54   51   49   47   44\n",
            "   42   42   40   40   39   39   36   36   36   33   33   32   31   26\n",
            "   22   22   21   20   20   19   19   19   15   15   14   13   13   12\n",
            "   12   12   12   12   11   11   10   10   10   10    9    9    8    8\n",
            "    7    7    6    6    6    6    5    5    5    5    5    5    4    4\n",
            "    4    4    4    4    4    4    3    3    3    3    3    3    2    2\n",
            "    2    2    1    1    1    1    1    1    1    1    1    1    1    1\n",
            "    1]\n",
            "San Francisco Breeds Normalized:  [[850 477 131 131  37  37  35  28  27  27  25  24  23  22  21  19  19  19\n",
            "   15  15  15  13  13  11  11  11   9   9   9   9   8   8   8   8   7   7\n",
            "    7   7   6   6   5   5   5   5   5   5   5   5   5   4   4   4   4   4\n",
            "    4   4   4   3   3   3   3   3   3   3   3   3   3   2   2   2   2   2\n",
            "    2   2   2   1   1   1   1   1   1   1   1   1   1   1   1   1   1   1\n",
            "    1   1   1   1   1   1   1   1   1   1   1   1   1   1   1   1   1   1\n",
            "    0   0   0   0   0   0   0   0   0   0   0   0   0   0   0   0   0   0\n",
            "    0   0   0   0   0   0   0   0   0   0   0   0   0   0   0   0]]\n",
            "New York Breeds Normalized:  [[726 538 369  97  86  83  65  49  43  42  40  40  35  26  24  22  19  17\n",
            "   17  17  17  16  15  15  14  12  11  10  10   9   9   9   8   8   8   8\n",
            "    8   7   6   6   6   5   5   5   5   5   5   5   4   4   4   4   4   4\n",
            "    4   3   2   2   2   2   2   2   2   2   2   2   1   1   1   1   1   1\n",
            "    1   1   1   1   1   1   1   1   1   1   1   1   0   0   0   0   0   0\n",
            "    0   0   0   0   0   0   0   0   0   0   0   0   0   0   0   0   0   0\n",
            "    0   0   0   0   0   0   0   0   0   0   0   0   0   0   0   0   0   0\n",
            "    0]]\n"
          ]
        }
      ]
    },
    {
      "cell_type": "code",
      "source": [
        "\n",
        "Xsf=['CHIHUAHUA', 'PIT BULL', 'LABRADOR RETR', 'GERM SHEPHERD', 'BOXER' ]\n",
        "#X AXIS BREED NAME\n",
        "Xny=['PIT MIX', 'MIX', 'UNKNOWN', 'SHIH TZU', 'CHIHUAHUA']\n",
        "#Y AXIS BITE NUMBERS NORMALIZED AND NOT NORMALIZED COMPARISON\n",
        "ysf=[1281, 719, 198, 198, 56]\n",
        "ysfn=[850, 477, 131, 131, 37]\n",
        "yny=[5437, 4029, 2762, 732, 648]\n",
        "ynyn=[726, 538, 369, 97, 86]\n",
        "#X2=[df_ny['breed_group']]\n",
        "#X_axis1 = np.arrange(len(X1))\n",
        "#X_axis2 = np.arrange(len(X2))\n",
        "plt.bar(Xsf, ysf, label='San Fran')\n",
        "plt.bar(Xsf, ysfn, label='San Fran Norm')\n",
        "\n",
        "\n",
        "plt.show()\n",
        "\n",
        "plt.bar(Xny, yny, label='New York', color='g')\n",
        "plt.bar(Xny, ynyn, label='New York Norm', color='y')\n",
        "plt.show()\n",
        "\n",
        "#Combined Normalization Data\n",
        "X3 = ['Pit Mix', 'Chihuahua', 'Germ Shepherd', 'Shih tzu', 'boxer']\n",
        "ysfc=[477, 850, 131, 0, 37]\n",
        "ynyc=[726, 86, 86, 732, 0]\n",
        "plt.bar(X3, ynyc, label='Combined New York Normal Data', color='black')\n",
        "plt.bar(X3, ysfc, label='Combined San Fran Normal Data', color='red')\n"
      ],
      "metadata": {
        "colab": {
          "base_uri": "https://localhost:8080/",
          "height": 1000
        },
        "id": "a2FKltlMQMdq",
        "outputId": "4b869c47-cfcf-4868-cfe2-ee214b84a728"
      },
      "execution_count": 23,
      "outputs": [
        {
          "output_type": "display_data",
          "data": {
            "text/plain": [
              "<Figure size 648x504 with 1 Axes>"
            ],
            "image/png": "[encoded data removed]"
          },
          "metadata": {}
        },
        {
          "output_type": "display_data",
          "data": {
            "text/plain": [
              "<Figure size 648x504 with 1 Axes>"
            ],
            "image/png": "[encoded data removed]"
          },
          "metadata": {}
        },
        {
          "output_type": "execute_result",
          "data": {
            "text/plain": [
              "<BarContainer object of 5 artists>"
            ]
          },
          "metadata": {},
          "execution_count": 23
        },
        {
          "output_type": "display_data",
          "data": {
            "text/plain": [
              "<Figure size 648x504 with 1 Axes>"
            ],
            "image/png": "[encoded data removed]"
          },
          "metadata": {}
        }
      ]
    },
    {
      "cell_type": "markdown",
      "source": [
        "With the scaled data, we can see that chihuahua has the largest data for the bites followed with a close tie with pit mix and shih tzu."
      ],
      "metadata": {
        "id": "THhQ2Grufj-T"
      }
    },
    {
      "cell_type": "markdown",
      "source": [
        "#How much data is there?"
      ],
      "metadata": {
        "id": "JzotgNxOqLWW"
      }
    },
    {
      "cell_type": "code",
      "source": [
        "num_rows, num_cols = df_md.shape\n",
        "print (num_rows, \" Rows \\n\", num_cols, \"Columns: \")\n",
        "print(list(df_md.columns))\n",
        "print(\"total number of NaN values in DF: \", df_md.isna().sum().sum())\n",
        "\n",
        "na = df_md.isna().sum().sum()\n",
        "#print(na)\n",
        "total = df_md.count().sum().sum()\n",
        "#print(total)\n",
        "print(\"Percentage of NaN values in DF: \", ((na/total)*100).round(2),\"%\")\n",
        "print(\"rows with NA: \", df_md.isna().any(axis=1).sum())\n",
        "naRows = df_md.isna().any(axis=1).sum()\n",
        "print(\"Percentage of rows containing NaN: \", ((naRows/total)*100).round(2),\"%\")\n",
        "print(\"fraction of the column values that are NA values:\\n\", (df_md.isnull().sum() / len(df_md)*100).round(2))\n",
        "df_md.info()"
      ],
      "metadata": {
        "colab": {
          "base_uri": "https://localhost:8080/"
        },
        "id": "hHlOgHWrzyju",
        "outputId": "1c957c2c-58ae-41eb-abbb-2d05e2af2ad3"
      },
      "execution_count": 24,
      "outputs": [
        {
          "output_type": "stream",
          "name": "stdout",
          "text": [
            "21911  Rows \n",
            " 12 Columns: \n",
            "['dataset', 'breed_group', 'breed_group_S', 'primary_breed', 'bite_code', 'bite_severity', 'gender', 'gender_S', 'age', 'average height', 'average_weight', 'lifespan']\n",
            "total number of NaN values in DF:  25503\n",
            "Percentage of NaN values in DF:  10.74 %\n",
            "rows with NA:  19072\n",
            "Percentage of rows containing NaN:  8.03 %\n",
            "fraction of the column values that are NA values:\n",
            " dataset            0.00\n",
            "breed_group        0.00\n",
            "breed_group_S      0.00\n",
            "primary_breed      0.00\n",
            "bite_code          0.00\n",
            "bite_severity     84.95\n",
            "gender             0.00\n",
            "gender_S          31.44\n",
            "age                0.00\n",
            "average height     0.00\n",
            "average_weight     0.00\n",
            "lifespan           0.00\n",
            "dtype: float64\n",
            "<class 'pandas.core.frame.DataFrame'>\n",
            "RangeIndex: 21911 entries, 0 to 21910\n",
            "Data columns (total 12 columns):\n",
            " #   Column          Non-Null Count  Dtype  \n",
            "---  ------          --------------  -----  \n",
            " 0   dataset         21911 non-null  int64  \n",
            " 1   breed_group     21911 non-null  int64  \n",
            " 2   breed_group_S   21911 non-null  object \n",
            " 3   primary_breed   21911 non-null  object \n",
            " 4   bite_code       21911 non-null  float64\n",
            " 5   bite_severity   3297 non-null   object \n",
            " 6   gender          21911 non-null  int64  \n",
            " 7   gender_S        15022 non-null  object \n",
            " 8   age             21911 non-null  float64\n",
            " 9   average height  21911 non-null  float64\n",
            " 10  average_weight  21911 non-null  float64\n",
            " 11  lifespan        21911 non-null  float64\n",
            "dtypes: float64(5), int64(3), object(4)\n",
            "memory usage: 2.0+ MB\n"
          ]
        }
      ]
    },
    {
      "cell_type": "markdown",
      "source": [
        "We learn that most NaN values fall into two columns: **bite_severity** and **gender_S**. This is consistent with observations during merging and cleaning the data. We find the strings in these columns to be valuable for a subset of analysis that could be done on the smaller dataset. Since each row is representative of a bite event, that is more valuable for helping answer our question.<br>"
      ],
      "metadata": {
        "id": "WTJMs-X86geK"
      }
    },
    {
      "cell_type": "markdown",
      "source": [
        "While this does not quantify the data, it gives us some insight into some runtime metrics.<br>\n",
        "From https://github.com/nschloe/perfplot:<br>\n",
        "\"perfplot extends Python's timeit by testing snippets with input parameters (e.g., the size of an array) and plotting the results.\""
      ],
      "metadata": {
        "id": "VyzkTZhtzP4R"
      }
    },
    {
      "cell_type": "code",
      "source": [
        "#CODE from https://stackoverflow.com/questions/15943769/how-do-i-get-the-row-count-of-a-pandas-dataframe\n",
        "perfplot.save(\n",
        "    \"/usr/local/share/jupyter/nbextensions/out.png\", transparent=False,\n",
        "    setup=lambda n: pd.DataFrame(np.arange(n * 3).reshape(n, 3)),\n",
        "    n_range=[2**k for k in range(25)],\n",
        "    kernels=[\n",
        "        lambda df_md: len(df_md.index),\n",
        "        lambda df_md: df_md.shape[0],\n",
        "        lambda df_md: df_md[df_md.columns[0]].count(),\n",
        "    ],\n",
        "    labels=[\"len(df_md.index)\", \"df_md.shape[0]\", \"df_md[df_md.columns[0]].count()\"],\n",
        "    xlabel=\"Number of rows\",\n",
        ")"
      ],
      "metadata": {
        "colab": {
          "base_uri": "https://localhost:8080/",
          "height": 51,
          "referenced_widgets": [
            "c2db4bcaa0ce4856850082041b94c277",
            "6c2c61cc3aff4731842cbd715df2870f"
          ]
        },
        "id": "SZ893FRDqOwr",
        "outputId": "596322db-9632-4d6b-c869-2a35f515e0f3"
      },
      "execution_count": 25,
      "outputs": [
        {
          "output_type": "display_data",
          "data": {
            "text/plain": [
              "Output()"
            ],
            "application/vnd.jupyter.widget-view+json": {
              "version_major": 2,
              "version_minor": 0,
              "model_id": "c2db4bcaa0ce4856850082041b94c277"
            }
          },
          "metadata": {}
        },
        {
          "output_type": "display_data",
          "data": {
            "text/plain": [],
            "text/html": [
              "<pre style=\"white-space:pre;overflow-x:auto;line-height:normal;font-family:Menlo,'DejaVu Sans Mono',consolas,'Courier New',monospace\"></pre>\n"
            ]
          },
          "metadata": {}
        },
        {
          "output_type": "display_data",
          "data": {
            "text/plain": [
              "\n"
            ],
            "text/html": [
              "<pre style=\"white-space:pre;overflow-x:auto;line-height:normal;font-family:Menlo,'DejaVu Sans Mono',consolas,'Courier New',monospace\">\n",
              "</pre>\n"
            ]
          },
          "metadata": {}
        }
      ]
    },
    {
      "cell_type": "code",
      "source": [
        "%%html\n",
        "<img src='/nbextensions/out.png' />"
      ],
      "metadata": {
        "colab": {
          "resources": {
            "http://localhost:8080/nbextensions/out.png": {
              "data": "iVBORw0KGgoAAAANSUhEUgAAAvEAAAHBCAYAAADgquTRAAAAOXRFWHRTb2Z0d2FyZQBNYXRwbG90bGliIHZlcnNpb24zLjUuMywgaHR0cHM6Ly9tYXRwbG90bGliLm9yZy/NK7nSAAAACXBIWXMAAAsTAAALEwEAmpwYAABVkElEQVR4nO3deWAU9cH/8c/slfsgkIQrgNxnEg5RQPGsolXBA8UiigrWG1urtT/72PZpafs8tX0qWi8QtGoVUBRPvBHlUs5wnwEC4QiE3Mde8/sjyZKEcASSzG7yfrW4O7Mzs5+dJLuf/e7srmGapikAAAAAIcNmdQAAAAAA9UOJBwAAAEIMJR4AAAAIMZR4AAAAIMRQ4gEAAIAQQ4kHAAAAQgwlHgAAAAgxlHgAAIBT+OeSGdpwaKs+2vKVfvHJH/Tq6rkNtu3J838tSdpwaKvunPdLTVs686TLSdI/lkzXYwv+pO92/dAgGfYVHNDvv/7HWW1jYeZSvbn2vQbJUx+3znlAj302VW6vW5K0MnudpnzyOz388VP6asf3geUe+2yqbp37oNw+j3bk7tYvPv2Dnvzif5o0a7G7pEYmSdpyeIf+veZdSdKc9R8q48Cm09oWJR4AAOA0fbFjkf50+WOaOHBso2w/rW1fPTzsrpMuc7Q0X/sLD+lvo36rC7sMbZQcoSQ6LFp/u/JJuRwu+fw+vb7mXf3+kl/qf6/4f/pwy5cqLC+SJP3tyieVEB4nSeqW0Fm/Gflgk2ct9pTq652La8ybv+lzXdl9pCTp8m4X6sMtX5zWthwNng4AAKAZeHvdB1qatVKJka1lytSsVXN0qPiIfv/1P3R1z0t1Sdfhx63z+6//oa6tOmn9oS2yG3ZNGnKr3lz7ng4VH9Zdg27RoPYDVOYt17PLZim78KD6JPY44fWfaLn/+e55HSg8pMc+m6qHzpuoTvEdjlt38vxf67yO6Vp3cLN6JJyjYZ0G690Nn6jc59avL7xfSVGtlV14UNOWzpTP71P/5N51ZijxlGr6iv8oK3+/DMPQvefepnNapWjWqjnaeGirHHaH7h40Tj3bdK2x3r+Wv6YRnYYovV0/HSo+omeWzNDUn/xac9Z/pMMlucouOKj8sgLdN3SCvtjxnXbm7tGIzkN0c/9rdaj4iP7+/UvqENtWO4/uUb+knpo85Gcq85Tp70um62hpvkyZumvQLeqX1LPG9W7P3aVOcR3UKqKirA9q119rD2zSBZ3PPfEP+ixu88LMpdpXcEDj066XJD3w4ZP6v6t/r21HMvX+pgWy2xzKLjigi88Zphv6XqW3M+ZrT362Hvtsqi7sfK4u73qhjpQcVXJ0oiQpISJexe5SFZQXKTYs+qQ5TzkS369fP40ePVpXXXWVHn30UXk8ntPeCdUtX75c69atC0w/+eST2rt37xlt60QmTJigq666SitWrDjhMpMnT9bAgQO1Y8eOBr1uAADQfGw/skvrDmzS30c9pfuH3q5tRzJ156CblRAep6k/+XWdBb5KdFiU/vfKJ9UrsZtmrnxbT4x8QI9dcK/e3fipJOmzbd8qKaqN/u+q32lgu37KLyuoczsnWu6XI+5Rp7j2+tuVT9ZZ4CUpv6xAF3Yeqn9e9XtlFWRr3YFN+vNPfq3Luo7Qlzu+kyS9tnqubup3tf426rcyZda5nXc2fKJ2Mcl6etRv9defPKF2MUlalrVaR0rz9PSo/9IDQ+/Q8z/8+7T3qyTllebrvy97VLcPvEl/W/ySxg24Tk+P+q2+yVyqMk+ZJGlvwX6N7X+N/jHqKW09kqn9hYe05sBGxYXH6OlRv9XfrnxSXVt1Om7bR0vzlVBZ4CUpIbKVckvz6pWvoW5z5tEsPTD0dv3tyt/qi+3fqcxbrnGpowM/u+t6X6GdR3crJb59jfU6x3fU9iO7Trn9U5b4+Ph4zZ8/Xx999JFycnL0ySefnHKjdfnhhx+0fv36wPTUqVPVsWPHM9rWyTz33HMaMmTICS+fPn26+vfv3+DXCwAAmo8th3doaMeBctjsSoiMV5/E7qe97uD2AyRJneI6qGebbnLZnUqJa6/DJbkV2z6yUyM6VXSVczukKczuqjvDaS5XlyhXpHq16SbDMJQS2179k3tVZmqvw8UVOXYd3ashHdIkSRd0qnukesPBLbqi24WSJLvNrkhnhLYe3qELOp0rwzDUKb6Dwuwu5Z3giUhd0tv1k82wqVNceyVFtlZydKKcdqeSolrraOV2OsS2VbuYJNlsNnWO66Cc4iPqFN9BGw9t0xtr39PO3D2KcIaf9nXWR0Pd5l5tuikmLFphDpeSolvraGn+ccvklRUoNiymxrzYsOjT2p+nfUy83W5XamqqDh48KKli1LtqNHv58uX6xS9+IUl64okn9Kc//Uk33XSTrrrqKm3atEn79+/X22+/rRdffFGjR4/Wzp07a6w/YsQI/eEPf9CVV16pxx9/XN98843Gjh2ra6+9NjBaf/jwYd1333264YYb9LOf/UyZmZknzevz+fSrX/1KP/3pT3Xttdfqww8/PN2bCgAAIMOoMXXa6zlsFUcr2wxDDpu98rxNfrPu0e7GUJVBkgzDCEwbhk1+0195QeNdf/Xb6/XVPIqjepaq/VMRxwhkc9bK7zf9ah+TrL9e8Rt1jG2rV1a9rW92LjnueltFxCm3WlnOLTlaY2S+odkMW41XMTx+b+B8jdtQ7bZV57Q75am1fzw+j1x25ymv+7SPiS8vL9eaNWv05JNPnnLZkpISvfPOO/rss880Y8YM/f3vf9e4cePUpk0b3Xrrrcctf/jwYV177bV66qmndOONN2rJkiWaO3eu/v3vf2v27Nl69NFH9Ze//EUPPvig+vXrp4yMDP31r3/VSy+9dMIMmzZt0oEDB/Txxx9LkgoLC0/rdubknN5yAAAguBR7SvTs6pflsDn1QPrd6tQu8Yy31atNN726eq6u7nmZCsoLtTlnu67r/ZMGydmrdVctyVqp7q27aGX2OpX73Ge13JnqEt9RK7PXaXD7AVqStbLOZQa07a3Pd3ynm/tfI5/fJ7fPo55tumlZ1ioNSxmkvQX75fZ5FB8eW2O9xKgE7crL0qD2/bUiO6NB8uaW5inaFaWLzxkmSdp1NOu4ZbondNHu/L06WpqvCEeYVu5fp+v7jqrX9dTnNreJTNB3u5dLqjgEK7/s5D0ywhGmUm95YLpDTFt9WevTag4U5ejCLuedMucpS3xeXp5Gjx6t7OxsDR06VH369DnlRi+99FJJUt++fTVr1qxTLh8XF6dBgwZJkrp3767zzz9fktSjRw+tXbtWkrRs2TJt3749sI7dbj9+Q9WkpKQoOztbf/zjH3X55Zdr2LBhp8wBAABCU5GnWM+uni6X3an70+5WhOPsDrXo3rqL+if30qML/ltJUa3Vo/U5DZRUurLHRZq2bJZ++el/q09id8XVKsD1Xe5M3TFwrKYtnam3M+ZrQLU3tq7Yt1Y7cvfolgHX6sa+V+vlFW/q0QV/lN2w6d5zb9P5KQO1KWebfrXgj3LYHLpv6ITjtn3pOSP0v9+/oGVZq5Tatm+D5N2Tl63X174rm2FTuN2lB86747hl7Da7JqTdoN9//Q/5ZWp0758o5hRvED2b29w7sZvCtoXpF5/+QX3adFfryFYnvZ6YsGh1iu+gXy34k0Z2Gapre/1EeaX58vq8ctgd8vv9Olh8WJ3j6n6vQ3WnLPFVx8QXFBTo1ltv1ZdffqnLL79cNptNZuXLJG53zWeGLlfFMVuGYcjvP/6lg9qczmMvGdhstsC0zWYLrG8Yht577z3ZbKd3BFBcXJw++OADLVq0SNOnT9eKFSv00EMPnda6AAAgdDR0ga8ybsB1Gjfguhrz/nXt1JOu8/tLfxk4XzViXGX66IrPJA93hOnxC+4NzJ885Gd1butEyyVFtdbUn/y6znVqX5ekGmW3X1LPwCe6VB2eUtuQDmmBY+UjnOGaMuzu45a5e/C44+ZVv70JkfF1bvvm/tcEzte+HdX3XfX51fOntzv1E4Lq+U/Xmd5mm2HTr0b8/Lj51fezVPO2PVJr28M7DdGK7AydnzJIGQc36dwOqafVd0/7mPjY2Fg9+uijmjFjhiSpffv22rSp4sPov/7661OuHxUVpeLi4tO9uuMMHjxYc+dWfLGC3+/Xli1bTrp8bm7Fmzauvvpq3XvvvYGsAACg+ahe4B9owAJvBYfNrm25u074ZU+om80wanzZ04k89tlUeU2fDEk7cnfrf757XtGnMUrf2K7qcXHguHqP36trel5+WuvV63PiL7nkEv3zn/9URkaGJk6cqF/84heaNWtW4FCYU6378MMP66OPPtI//lH/bwT7r//6L/3ud7/Tm2++Ka/XqzFjxqhXr14nXP7gwYP6zW9+I9M0Zbfb9dRTT9X7OgEAQPAq8hRr2uqXFWZ36YG0uxXehAV+3sZPtTRrVY15N/a9SuennLoTnUivNt30r2v+VK91/vb9izpUfKTGvMcuuFdJUa3POEeoeem6v57Wcn+78tj7OrsldNbfR/1XY0Wql3BnuIalDJZU8SlEp8swzSZ8q3QjmzBhgn7/+9+rW7duZ7wcb2wFACD4FbmLNW3Nywqzh+mBtLvqLPCJiTF1rAk0D6d9OE0oiIuL0yOPPHLKL3vKysqSw8GX1QIAEIpOp8ADzV2zGolvCIzEAwAQvKoKfLg9TPefosAzEo/mrFmNxAMAgOarPgUeaO4o8QAAIOhR4IGaKPEAACCoFbmL9czqlyoLfNN+Cg0QrHh3JwAACFqF7iJNW/2yIhwRlSPwYVZHAoICI/EAACAoUeCBE2MkHgAABJ2qAh/pjNB9qRR4oDZG4gEAQFChwAOnRokHAABBgwIPnB4OpwEAAEGheoG/P+1uhdldVkcCghYj8QAAwHKF7iI9s/olRTkjKfDAaaDEAwAAS1UV+GhnlO5Lu4sCD5wGSjwAALDUfza/q0hHJAUeqAdKPAAAsExOyRGtO7xRN/ccTYEH6oESDwAALLNo3xJ1jz9HHWPaWx0FCCmUeAAAYIkyb7mWZP+oizuOsDoKEHIo8QAAwBI/HFipCEe4BrTpa3UUIORQ4gEAQJPzm34t3LtEF3UcLrvNbnUcIORQ4gEAQJPbnLtNuWVHNbz9UKujACGJEg8AAJrcwr2LNbTtIEU5I62OAoQkSjwAAGhSh0pytPHIFt7QCpwFSjwAAGhS3+5doh6tuql9dFurowAhixIPAACaTKm3TMv2r2AUHjhLlHgAANBklu9fqShnpAa06WN1FCCkUeIBAECT8Jt+fbt3sUZ2HC6bQQUBzgZ/QQAAoElsPLJFeeX5Gt7uXKujACGPEg8AAJrEwr2LdV67IYrkYyWBs0aJBwAAje5A8SFtzt2mizoOtzoK0CxQ4gEAQKP7du8S9WrVXe2ikq2OAjQLlHgAANCoSr2lWnZghS5O4WMlgYZCiQcAAI1qafaPinXFqF/r3lZHAZoNSjwAAGg0FR8ruUQX8bGSQIPirwkAADSaDUc2q9BTpGHthlgdBWhWKPEAAKDRLMxarPPbDVGEI8LqKECz4rA6QGNZsmSJ1q9fr927d+uxxx5TfHy81ZEAAGhR9hcf1Jaj23Vzz9FWRwGanaAdifd4PBo3bpyGDBmiBQsWBObPmTNH48aN04QJE5SVlXXC9YcPH6577rlHycnJKiwsbIrIAACgmoV7F6tPQk8lRyVZHQVodoJ2JN7hcGjatGmaPXt2YF5eXp7mzp2rt956Sxs3btTTTz+tZ555RmvWrNHMmTMDy40aNUpXX3215s2bp27duiklJcWKmwAAQItV4inRD/tXatKACVZHAZqloC3xhmEoKanmM/eMjAwNHTpUDodDqampyszMlCSlp6dr2rRpNZadO3euvvzySw0bNkz79u1Thw4dTut64+P5KmgAAM7W4q1LlBAZr2Fd0/lUGqARBG2Jr0t+fr7i4uIC06ZpnnDZsWPHauzYsfW+jry8kjPKBgAAKvhNvxZs/1aXpYxUQX6ZZTkSE2Msu26gsYXUU+PY2FgVFBQEpm22kIoPAECLsO7wRpV4SnR+u8FWRwGarZBqwWlpafrxxx/l8/m0YcMGde7c2epIAACgloVZizWs3bkKd4RbHQVotoL6cJopU6Zo/fr1ioyMVEZGhh5//HGNGTNG48ePl8Ph0NSpU62OCAAAqtlXtF/b8nbq1t43Wh0FaNYM82QHlrdAOTl8HCUAAGfqP5vfUX55ge5Lu8vqKBwTj2YtpA6nAQAAwavIU6wfDqzSxR0vsDoK0OxR4gEAQINYkv2DEsIT1Duhh9VRgGaPEg8AAM6az+/Tor1LdXHH4TIMw+o4QLNHiQcAAGct4/BGlfnKNLQtHysJNAVKPAAAOGsL935f+bGSYVZHAVoESjwAADgrWYXZ2pG3Sxd1HG51FKDFoMQDAICzsnDv9+rfpo/aRLS2OgrQYlDiAQDAGSt0F2nFwTW6uOMIq6MALQolHgAAnLHF2T8oMaK1erXqbnUUoEWhxAMAgDPi8/v03b6lurjjCD5WEmhilHgAAHBG1uSsl9vn1rltB1kdBWhxKPEAAOCMLNy7WMPbD1WY3WV1FKDFocQDAIB621OwV5n5uzWywzCrowAtEiUeAADU28K9i5Wa2E+tIxKsjgK0SJR4AABQLwXuQq3kYyUBS1HiAQBAvSzet1zJUUnqEd/V6ihAi0WJBwAAp83r9/KxkkAQoMQDAIDTtvLgWnn9Pg1JHmh1FKBFo8QDAIDTsqdgr+ZsfV9XdrlULrvT6jhAi0aJBwAAp3Sg+JD+tfYVnd9uiC5NudDqOECLR4kHAAAnlVt2VM+tmaE+Cb10Y49rORYeCAKUeAAAcEKF7iI9t2aGOsa004Q+Y2UzqA5AMOAvEQAA1KnUW6Z/rX1FMa5o3dXvNtltdqsjAahEiQcAAMfx+Dx6KeNVyTR1b+pE3sgKBBlKPAAAqMHn9+mVDW8qv7xAD6RPUoQjwupIAGqhxAMAgAC/6debm99RVuE+PZg+WTGuaKsjAagDJR4AAEiSTNPUe9s/1vojm/Rg+iS1jmhldSQAJ0CJBwAAkqTPdn+txdnL9UDa3WoXlWx1HAAnQYkHAABatHepPt31le4ZcIc6x6ZYHQfAKVDiAQBo4VYcXKO52+brzn4/U++EHlbHAXAaKPEAALRgG45s1r83ztatvW5UemJ/q+MAOE2UeAAAWqgdebs0fd3ruq7bKA1vf67VcQDUAyUeAIAWaF/Rfr2QMUuXpFygyztdZHUcAPVEiQcAoIXJKTmiZ9dM16CkVF3XdZTVcQCcAUo8AAAtSF55vp5dM13d47tqXK/rZRiG1ZEAnAFKPAAALUSxp0T/WvOKEiNa646+42QzqAFAqOKvFwCAFqDc59YLa2cpzO7S5AG3y2lzWB0JwFmgxAMA0Mx5/F5NX/dvlfnKdF/aXQp3hFkdCcBZosQDANCM+U2/Xtv4tg6V5OjB9EmKckZaHQlAA6DEAwDQTJmmqbe3vKfteTv1YPpkxYfFWR0JQAOhxAMA0Ex9sHOBVh1aqwfTJikpso3VcQA0IEo8AADN0Jd7vtU3Wd/r3tQ71TGmvdVxADQwSjwAAM3Mkuwf9cGOBZo8YIK6x59jdRwAjYASDwBAM7Lm0Dq9teVd3d73FvVr3dvqOAAaCSUeAIBmYnPuNs3a8B+N7TFaQ5LTrY4DoBFR4gEAaAYy8/fopXWv6apzLtfIjsOsjgOgkVHiAQAIcdlFB/TC2pm6oP15urLzpVbHAdAEKPEAAISwI6W5em7NDA1I7Ksbul8jwzCsjgSgCVDiAQAIUfnlhXp2zXR1iU3Rz3rdSIEHWhBKPAAAIajEU6p/rZ2hVuGtdGe/n8lus1sdCUATosQDABBi3D63XsiYJYfh0M8H3C6n3Wl1JABNjBIPAEAI8fq9mr7+dZV4SnR/+l0Kd4RbHQmABSjxAACECL/p1783ztaB4kN6MH2Sop1RVkcCYBFKPAAAIcA0Tc3ZOl9bj+7QQ+mT1Co83upIACxEiQcAIAR8tPMz/XhgtR5In6SkyESr4wCwGCUeAIAg99WeRfoq6zvdl3anUmLaWx0HQBCgxAMAEMSWZv+o+Ts+1aT+t6l7/DlWxwEQJCjxAAAEqTU56/WfLe/q9j43q3+bPlbHARBEKPEAAAShzbnbNGvDfzS2x2gNaTvQ6jgAggwlHgCAILO7IEsvr3tNozpfppEdh1kdB0AQosQDABBE9hcf1L/WvqIR7c/TqC6XWh0HQJCixAMAECSOlObquTUzNKB1X13f/acyDMPqSACCFCUeAIAgUOAu1LNrpqtzTEf9rPeNshk8RAM4Me4hAACwWImnVM+tmaFWYfG6s9/PZLfZrY4EIMhR4gEAsJDb59YLGbPkMBz6eeodctqdVkcCEAIo8QAAWMTr92r6+tdV4i3V/Wl3KdwRbnUkACHCYXWAxrJp0yYtW7ZMe/bs0UMPPaSEhASrIwEAEOA3/fr3xtk6UHxIjw6+X9GuKKsjAQghQTsS7/F4NG7cOA0ZMkQLFiwIzJ8zZ47GjRunCRMmKCsr64Tr9+nTR/Hx8Tp48KDsdo4tBAAED9M0NXvLe9qat0MPpU9WfFic1ZEAhJigHYl3OByaNm2aZs+eHZiXl5enuXPn6q233tLGjRv19NNP65lnntGaNWs0c+bMwHKjRo3S1Vdfreuvv16tWrXS7t27lZqaasXNAADgOB/sXKCVhzL0yMCfKymyjdVxAISgoC3xhmEoKSmpxryMjAwNHTpUDodDqampyszMlCSlp6dr2rRpNZb96quvtHPnTmVlZemBBx447euNj488+/AAAJzAR1u/1MK93+s3Fzyknq27Wh0HQIgK2hJfl/z8fMXFHXvJ0TTNEy572WWX6bLLLqv3deTllZxRNgAATmVx9nLN3fKhfp46UUn2tjzmNLLExBirIwCNJmiPia9LbGysCgoKAtM2W0jFBwC0YKsOZejtLe/p9r7j1Ld1L6vjAAhxIdWC09LS9OOPP8rn82nDhg3q3Lmz1ZEAADilTUe26rUNb2lcz+s1ODnN6jgAmoGgPpxmypQpWr9+vSIjI5WRkaHHH39cY8aM0fjx4+VwODR16lSrIwIAcFI783fp5XWv6ZquV2pEh/OsjgOgmTDMkx1Y3gLl5BRaHQEA0EzsK9qv/1v1oi5of57GdL/a6jgtDsfEozkLqcNpAAAIFYdKDuvZNdM1KClVo7tdZXUcAM0MJR4AgAaWV56v59ZMV4/4rhrX63oZhmF1JADNDCUeAIAGVOQp1rNrZig5Mkl39B0nm8FDLYCGxz0LAAANpMxbpufXzlSkI0KTBkyQwxbUnx8BIIRR4gEAaAAen0cvrfu3vH6v7ku9U2F2l9WRADRjlHgAAM6Sz+/TrA3/0dGyo3owfZIinRFWRwLQzFHiAQA4C37Tr/9sfle7C/fqofTJinXxsYYAGh8lHgCAM2SapuZt/0jrjmzUg+mT1DoiwepIAFoISjwAAGdowa6vtCT7Bz2QdrfaRSVbHQdAC0KJBwDgDCzcu1gLdn+te1MnqnNsitVxALQwlHgAAOrphwOrNG/bR7qr33j1bNXd6jgAWiBKPAAA9bAmZ73e2DRX43vfpLTEflbHAdBCUeIBADhNm3K3atb6N3VTj2t1XrvBVscB0IJR4gEAOA078nbp5YzX9NOuV2hkx+FWxwHQwlHiAQA4hT2Fe/X82pm6OOUCXdH5EqvjAAAlHgCAkzlQfFD/WvOKhrYdpOu6jrI6DgBIosQDAHBCh0tzNW31dPVr3Vtje14nwzCsjgQAkijxAADUKa88X8+uflnnxHXS+N43yWbwkAkgeHCPBABALUXuYj27ZoYSI9toYr+fyW6zWx0JAGqgxAMAUE2pt1T/WjtDUY4I3TPgdjltDqsjAcBxKPEAAFRy+9x6Ye0smZLuS7tTLrvL6kgAUCdKPAAAkjx+r15e928Ve0v1YNokRTgirI4EACdEiQcAtHg+v0+vbviPckoO66H0SYp2RVkdCQBOihIPAGjR/KZfb25+R5n5e/TQwHsUHxZndSQAOCVKPACgxTJNU+9s+0AbjmzWQwMnq01EgtWRAOC0UOIBAC3Whzs/0/L9q/RA+t1qF5VsdRwAOG2UeABAi/T5rm/0TdZ3uj/tLnWK6Wh1HACoF0o8AKDFWbR3iT7O/Fz3pN6hbvFdrI4DAPVGiQcAtCjL96/U3G0f6M7+49UnoafVcQDgjFDiAQAtxpqc9Xpz8zu6rfdYpSf2tzoOAJwxSjwAoEXYdGSrZq1/Uzf1uFbntRtsdRwAOCuUeABAs7c9L1MvrXtNP+16hUZ2HG51HAA4a5R4AECztqdwr15YO0uXpFygKzpfYnUcAGgQlHgAQLO1r2i/nls9Q+e1G6Truo6yOg4ANBhKPACgWTpQfEjPrp6utMT+uqnHdTIMw+pIANBgKPEAgGYnp+SIpq1+Wb0TeurW3jfIZvBwB6B54V4NANCs5JYd1TOrX1LXuM6a0GcsBR5As8Q9GwCg2cgrz9czq19Wx5h2mtjvVtltdqsjAUCjoMQDAJqFQneRpq2erjbhCbq7321y2BxWRwKARkOJBwCEvGJPiZ5dM12xrmj9PPUOOe1OqyMBQKOixAMAQlqpt1TPrZkhl82le1MnymV3WR0JABodJR4AELLKvOV6fu1MmTJ1f9pdCneEWx0JAJoEJR4AEJLcPo9eynhVZd5yPZg+SZHOCKsjAUCTocQDAEKOx+/Vy+teU767QA8NnKxoZ5TVkQCgSVHiAQAhxef3aeb6N5VTclgPD7xHsa4YqyMBQJOjxAMAQobf9Ou1jW8rq3CfHh74c8WHxVkdCQAsQYkHAIQEv+nXG5vmanveTj088B61jmhldSQAsAwlHgAQ9EzT1Owt72nDkc16eOA9SopsY3UkALAUJR4AENRM09S72z7UqkMZeih9stpGJVsdCQAsR4kHAAQt0zT1wc4FWrp/hR5Mn6SOMe2tjgQAQYESDwAIWgt2faWFexfr/rS71Dk2xeo4ABA0KPEAgKD05Z5v9dnur3Vf6kR1i+9idRwACCqUeABA0Fm4d7E+3LFAkwfcoZ6tulsdBwCCDiUeABBUFmcv17xtH+mu/repX+teVscBgKBEiQcABI1l+1fo7S3v6Y6+tygtsZ/VcQAgaDmsDgAAgCQtzf5R/9nyrm7vc4sGJ6dbHQcAgholHgBguSXZP+qtLe/qjj63aEjbgVbHAYCgR4kHAFhqcfbyykNoxmkII/AAcFoo8QAAyyzet1yzt76viX3HcQgNANQDJR4AYInv9y3TnK3zNbHfrRqUlGp1HAAIKZR4AECT+27fUs3d+gEFHgDOECUeANCkFu1done2fag7+/1MA5MGWB0HAEISJR4A0GS+3btE7277UHf1H6/0xP5WxwGAkEWJBwA0iYVZizVv+0e6u/94pVHgAeCsUOIBAI3um6zv9f72j3V3/9v4JlYAaACUeABAo/o66zvN3/6JJg2YoAFt+lodBwCaBZvVARrTwoULNXnyZKtjAECL9fWeRRR4AGgEQVviPR6Pxo0bpyFDhmjBggWB+XPmzNG4ceM0YcIEZWVlnXD9jRs3qry8XCkpKU0RFwBQy5d7vtX8HZ9q8oDbKfAA0MCC9nAah8OhadOmafbs2YF5eXl5mjt3rt566y1t3LhRTz/9tJ555hmtWbNGM2fODCw3atQo7dmzR+Hh4dq8ebPWrVunAQP4GDMAaCpf7vlWH+78TJMH3K7+bfpYHQcAmp2gLfGGYSgpKanGvIyMDA0dOlQOh0OpqanKzMyUJKWnp2vatGl1bmfPnj0UeABoQl/sXqiPMj/XPQPuUL/WvayOAwDNUtCW+Lrk5+crLi4uMG2a5inXeeqpp+p1HfHxkfXOBQCo8OGWL/Rx5ud6dNg9Sk3mEBoAaCwhVeJjY2O1ZcuWwLTN1vCH9OfllTT4NgGgJfhs19f6dNeX+vmAieoU1oX7U1guMTHG6ghAownaN7bWJS0tTT/++KN8Pp82bNigzp07Wx0JACBpwa6vKgp86kT1ad3T6jgA0OwF9Uj8lClTtH79ekVGRiojI0OPP/64xowZo/Hjx8vhcGjq1KlWRwSAFu/TzK/02e6vdW/qneqd0MPqOADQIhjm6RxY3oLk5BRaHQEAQsYnmV/o890LdV/qneqV0N3qOEANHE6D5iyoR+IBAMHJb/r13vaP9f2+ZRR4ALAAJR4AUC9ev1evb5qjTblb9fDAn+ucuE5WRwKAFocSDwA4baXeMs1Y97pySg/r0cEPKDky0epIANAiUeIBAKclv7xQL6x9RaakRwc/oLiwWKsjAUCLRYkHAJzSoZIcPbfmFbWOSNA9A25XhCPc6kgA0KJR4gEAJ7W7IEvPr52pXq26a0LfW+S08dABAFbjnhgAcEIbjmzRjHX/1ogO5+mG7tfIZoTUdwQCQLNFiQcA1Gn5/pV6c/M7urbrlbq800UyDMPqSACASpR4AEANpmnqiz0L9dHOzzW+9006r91gqyMBAGqhxAMAAvymX+9u+1BL9v+oe1Mnqm/rXlZHAgDUgRIPAJAkefxe/Xvj29p6dIceGfhzdY5NsToSAOAEKPEAEGT8pl+rDq5VQkQrdYnt1CRvJi31lurljH8rt+yoHh38gJIi2zT6dQIAzhwlHgCCiM/v0xub52ptznp5/F7FuWI1MGmABiWlqUtsSqO8uTS/vED/WvuKbIZNjw55QLGumAa/DgBAwzJM0zStDhFMcnIKrY4AoIVy+9x6Zf0b2lu0Xw+lT1KMK0YZORu08tBabTm6XfFhcRqYNECDk9LUKaZjgxT6g8WH9NzaV5QU0UaTB0xQOF/ihGYkMZEnpGi+KPG1UOIBWKHEU6oXM2apyFOsB9MnKSG8VY3LizzFWpuzXqsOZmhr3g61CovXoKRUDUpOVUp0hzMq9Jn5e/RCxkz1SeipCX1uloMvcUIzQ4lHc0aJr4USD6Cp5ZcX6l9rZ8hu2HV/2l2KcUWfdPlCd1FFoT+Uoa1Hd6h1REJFoU9KU8fodqdV6Ncf3qQZ69/QyA7DNKb71XyJE5olSjyaM0p8LZR4AE3pcOkRPbt6uhIiEvTzAbfX+3CWQneRVh9ap1WH1mp7XqYSI1trUFKaBiWlqn1U2zoL/ZLsH/XWlnc1uttVurzTRQ11U4CgQ4lHc0aJr4USD6Cp7Cvar+fWzFDXuM6a2O9ncp7l4Sz55YVak1NR6Hfk7VJSZGLlCH2q2ke3lWma+mz31/ok80tN6HOzzm07sIFuCRCcKPFozijxtVDiATSF7XmZejFjlgYlpWpcrxsa/HCWvPJ8rTm0vqLQ5+9S26hkJUYkaOvRHbpnwB3qndCjQa8PCEaUeDRnlPhaKPEAGlvV8eiXplyoa7te2SgfG1nd0bI8rc5Zpx15u3Rll0vUKaZjo14fECwo8WjOKPG1UOIBNKYfDqzSG5vmanS3q3RZp5FWxwGaNUo8mjM+TwwAmsg3Wd/rve0fa3zvm3Reu8FWxwEAhDBKPAA0MtM09VHm5/pqz7eaPGCCBrTpa3UkAECIo8QDQCPym37N3vKeVhxcqwfSJqlHq65WRwIANAOUeABoJB6/V69tfFvbj+7UI4PuVUpMe6sjAQCaCUo8ADSCMm+5pq/7t3JKD+uXg+9XUmQbqyMBAJoRSjwANLAiT7GeXztTHp9Hvxx8v+LD4qyOBABoZijxANCAjpbl6bk1MxTpjNCDg+5VpDPS6kgAgGaIEg8ADeRg8SE9u2aG2kUna3L/CXLZXVZHAgA0U5R4AGgAewr26l9rX1GfhJ6a0Odm2W12qyMBAJoxSjwAnKXNudv08rrXdH67c3VTj2tlM2xWRwIANHOUeAA4Ax6fR6tz1um7fcuUmb9bPz3nJxrV5TIZhmF1NABAC0CJB4B6OFSSo+/3Ldey/StkGIaGtx+qO/reojYRra2OBgBoQSjxAHAKPr9Paw9v0Pf7lmnL0e3qEd9VN/cao7TE/nLauBsFADQ9Hn0A4ARyy45qcfYPWpL9gzx+r85vO1g39xyttlHJVkcDALRwlHgAqMZv+rXxyBZ9t2+ZNhzZrM6xKbqu21UanJTKR0YCAIKGYZqmaXWIYJKTU2h1BAAWyC8v1NL9P+j7fctV7C3R0OSBuqDD+UqJ6WB1NABnKDExxuoIQKNhJB5Ai2WaprYc3a7v9y3T2sMb1DYySVd0vkTnth2oCEe41fEAADghRuJrYSQeaP6KPMVavn+lvs9eptyyPA1OStMFHc7XObGd+IhIoBlhJB7NGSPxAFoM0zQ1b/tHWrRvqRLC43Vh+/N1XrshinJGWh0NAIB6ocQDaDE+yfxCy/av0L2pE9W7VQ9G3QEAIYvvBgfQIvx4YLU+2/2NJg+YoD4JPSnwAICQRokH0OztzN+lNzbP1bhe16tnq+5WxwEA4KxR4gE0a0dKc/VSxmu6uOMIDW8/1Oo4AAA0CEo8gGar1FumFzJmqWtcF43udpXVcQAAaDCUeADNks/v08wNb8ph2DWx362yGdzdAQCaDx7VADRL727/SPsKs/Xz1IkKs7usjgMAQIOixANodr7du0RLsn/Qval3qlV4vNVxAABocJR4AM3KxiNb9M62DzSx7zh1iu1odRwAABoFJR5As5FddECvrH9T155zpdKTBlgdBwCARkOJB9AsFLqL9GLGLKUl9tNPOl9sdRwAABoVJR5AyPP4PHp53WuKD4vXrb1v5NtYAQDNHiUeQEgzTVNvbn5XBe4i3TPgdjltDqsjAQDQ6CjxAELagl1fa/2Rjbov9U5Fu6KsjgMAQJOgxAMIWSsPrtWnu77UpP4T1DYqyeo4AAA0GUo8gJC0q2CPXt80Wzf3HK3eCT2sjgMAQJOixAMIObllR/Vixqu6sMMwXdDhfKvjAADQ5CjxAEJKmbdML2a8qs4xHXV9959aHQcAAEtQ4gGEDL/p16wNb0mS7uz3M9kM7sIAAC0Tj4AAQsZ72z/W7sIs3Zs6UeGOcKvjAABgGUo8gJDw/b5l+m7fUv18wEQlhLeyOg4AAJaixAMIeptzt2nO1vma0OcWnRPXyeo4AABYjhIPIKgdKD6kGetf11VdLtfg5DSr4wAAEBQo8QCCVpGnWC9kzFL/1n00qsulVscBACBoOKwOAABVSjyl2lO4V3sK9mp34V7tzN+lNhEJGt/7JhmGYXU8AACCBiUegCXKvGXKKszWnsK92l2QpT2Fe5VTekQuu0sp0R3UObaj0hOv0YA2feS0O62OCwBAUGm2JX7evHnatm2bkpOTdccddzCKB1jI7fNob1G29hTsDZT2gyU5stvsSolur06xHTWqy2XqFNNRbaOS+Px3AABOIWhLvMfj0YQJE7R9+3b96U9/0qhRoyRJc+bM0bx58+R0OvXnP/9ZKSkpda4fHR2tyMhIeb1e+f1+2e32powPtFhev1fZRQe0uzArcFjM/uKDkqQO0e3UKaajLu10oTrFpKh9VLLsNv42AQCoL8M0TdPqEHUxTVM5OTmaPXu2evTooVGjRikvL0+TJ0/WW2+9pY0bN+qVV17RM888ozVr1mjmzJmBdUeNGqWrr75akvTZZ58pOjpaI0aMOK3rzckpbJTbAzQHpmmqxFuqAnehCsoLVeAuVKG7UAXuIhW4C7W/+KCyi/bLZ/rVLipZnWI7qnNMR3WOTVH7qLYcFgOgSSUmxlgdAWg0QTsSbxiGkpKSaszLyMjQ0KFD5XA4lJqaqszMTElSenq6pk2bVmPZRYsWafPmzdq7d68eeeSRpooNhBzTNFXuK68o5pVlvMBdqMLymtMVhb1IPtMnSQqzuxTrign8i3HF6Ny2A9U55jp1jGmvMLvL4lsGAEDzFbQlvi75+fmKi4sLTJ/sRYSRI0dq5MiR9b6O+PjIM8oGBKtid4kOl+RW/CutPC05qqOl+covL1B+WYHKfW5JktPmUFx4rOLCYhUXHqP4sFglx3VRfHis4sJiFBceq/jwWMWGxSjcEWbxLQMAoOUKqRIfGxurLVu2BKZttoZ/81teXkmDbxNoLKZpqsBdpNyyo9X+5dU4X+YrkyTFuKKVEN6q8l+8Ulp3VFy1UfRYV4wiHOGnfhO4Ryrz+FQm/lYABDcOp0FzFlIlPi0tTc8//7x8Pp82b96szp07Wx0JaDR+068ST6mKPcUqcBceV85zy44qtzxPXr9XNsOm+LA4JYTHKyG8lTrGtFdqYt9AaW8VFi8Xx6MDANBsBHWJnzJlitavX6/IyEhlZGTo8ccf15gxYzR+/Hg5HA5NnTrV6oghz+f3qcxXLlMN+/5mmwy57C45bEH9K9Ykqo45L/aUqthbrGJPSeBfSeVpkaekxmUlnhKVessCPxenzVFjFL1Hq641puNcsXzKCwAALUjQfjqNVXbu2y9TpkzTDJxKkt80JVXNC5yTzMC5GutUrGXKZthkN2yyGXbZDbvsNlvFadU8W9X5+h8aZJqm3H6PSr2lKvGUqsxXVnHqLVOJt0yl3lKV1jg9fp7b72nAvXc8h2FXmD1MYY4whdvDKs7bXQp3VJ0PC5wPr7ys+rLHlnNVvlGy4lCPwAEfxrFpQzUPA6l9WEjV5dXn+02/vH6fvH6PPH6vPH7vCc97fJ6TXl51vtxbrmJvzaLurXwzqCRFOCIU5YxUlCOy4rTyX2TlabQjUlHOKEU6IxTljFKUM1Lh9jC+6wAA6onDadCcUeJruXn2fZZcryGjosxXlvq6ir7dsMswDJV7y1XqqyjlftMf2IbNsCnSEaEIR7gijjsNV6QjQuGVp1XzIhwRCneEHVeAz5bfNOX2u1XmLVe5r1xlvnKVeytPfe6KeZWX1TzvDixb7iuvUX6bmt2wy2lzyGFzyGlzymmvOK2YPv584NTurCzmUYquKuiOqtMIRswBoIlQ4tGcUeJr2ZK1R4YMGYZRWWwN2YxjI7iB/xmSAuer5lZbpnIdv+mXz/TL5/fJZ/oqp33y+StPzWrzq8/z+46tWzntM/0yTb/CHGGBch7pCA8Uc6fN2exGa71+b6DUV71qUPtXtvqhQFWXVZtTcxmz5jqGDDntzpplvfI83xoKAKGNEo/mjAOWa0kIb9Wg27MZtoqdzODrGXHYHIq2ORTtjLI6CgAAQNBgqBEAAAAIMZR4AAAAIMRQ4gEAAIAQQ4kHAAAAQgwlHgAAAAgxlHgAAAAgxFDiAQAAgBBDiQcAAABCDCUeAAAACDGUeAAAACDEUOIBAACAEEOJBwAAAEIMJR4AAAAIMZR4AAAAIMRQ4gEAAIAQQ4kHAAAAQgwlHgAAAAgxlHgAAAAgxFDiAQAAgBBDiQcAAABCDCUeAAAACDGUeAAAACDEUOIBAACAEEOJBwAAAEIMJR4AAAAIMZR4AAAAIMRQ4gEAAIAQQ4kHAAAAQgwlHgAAAAgxlHgAAAAgxFDiAQAAgBBDiQcAAABCDCUeAAAACDGUeAAAACDEUOIBAACAEEOJBwAAAEIMJR4AAAAIMZR4AAAAIMRQ4gEAAIAQQ4kHAAAAQgwlHgAAAAgxlHgAAAAgxFDiAQAAgBBDiQcAAABCDCUeAAAACDGUeAAAACDEUOIBAACAEEOJBwAAAEIMJR4AAAAIMZR4AAAAIMRQ4gEAAIAQQ4kHAAAAQgwlHgAAAAgxlHgAAAAgxFDiAQAAgBBDiQcAAABCDCUeAAAACDGUeAAAACDEUOIBAACAEEOJBwAAAEIMJR4AAAAIMZR4AAAAIMRQ4gEAAIAQ47A6QGPZt2+f5s2bp6ioKI0ZM0YJCQlWRwIAAAAaRNCOxHs8Ho0bN05DhgzRggULAvPnzJmjcePGacKECcrKyjrh+m+99ZZiY2Pl9/vlcDTb5yoAAABogYK23TocDk2bNk2zZ88OzMvLy9PcuXP11ltvaePGjXr66af1zDPPaM2aNZo5c2ZguVGjRsntdmvw4MHy+Xz65JNPNG7cOCtuBgAAANDggrbEG4ahpKSkGvMyMjI0dOhQORwOpaamKjMzU5KUnp6uadOm1Vi2a9eumj9/viTppptuaprQAAAAQBMI2hJfl/z8fMXFxQWmTdM84bK9e/dW7969630d8fGRZ5QNAAAAaCohVeJjY2O1ZcuWwLTN1vCH9OfllTT4NgEEB9PvlXfHD/IX5R6badQ+Yxy7qPZlxy46fnmbTTJsks0uo/K0Yp49cJkRmLYfW7ZqvWrrGIZdsjtkRCXIMGpcKYB6SEyMsToC0GhCqsSnpaXp+eefl8/n0+bNm9W5c2erIwEIAabfJ++2JSpf9YHkKZOtdafaS1Se1PHqXmDeyS6TTNMv+f2S6Qucmn6/5PdJ5rFTMzBdfVl/nbntbXvKde6NcrTrVf8bDQBo1oK6xE+ZMkXr169XZGSkMjIy9Pjjj2vMmDEaP368HA6Hpk6danVEAEHM9Pvl3blc5SvnyywrlCvtarn6XS7DGWZ1tBpM06xR9OX3ySwrknvtpyr96H9l79BHYUNukD2pq9VRAQBBwjBPdmB5C5STU2h1BABnyTT98maulHvle/IXH5UrdZRc/a+Q4YqwOlq9+QsOqXzl+/JuXypHp3S5htwge+sUq2MBIYHDadCcUeJrocQDocs0TXl3r64o7wU5cg24Qq4BV8oIi7I62lnzHd0n94r35N21Uo6uQxU2eIxs8e2sjgUENUo8mjNKfC2UeCD0mKYpX9Y6la98T/6j++Tqd7lcaVfLCI+2OlqD8x3erfIV8+TLWidHjxEKG3ydbDGJVscCglJDlviD7/1DsYOuUPmBTBWu/kIR3QaqzU/ubJBt7/7n3er8yCunXK5093oVrPpcydf/skGutzZP3iHtffkRhbXvrva3/bckqWD1l8pb+p4Mw6aEy+9QVI8h8hbm6sDbU+Urzjut3GgcQX1MPACcjGma8mVvUvmKefIf3i1n30sVceUjskXGnXrlEGVv01mRo34h38HtKv/xXRXPfkLO3hfJNfBa2aJaWR0PaPYKV32u9nf+Vfbw0H+Fry6uxE6BAu8rKVT+Dx+q46Sn5S8v1f43nlJkt4FyxCSo4+S/a/c/77Y4bctGiQcQkrz7t8i9Yp58B3fI2fsiRVz+QIsqsfbk7oq85tfy7tuo8hXzVPz243L2u0yu9J/KFs4hBEBDyF34loo3LZEjLlGSqSOfvyJP3iHtf/2/FDf0GsWkXXrcOtmvP6Wwdl1Vumu9DJtNbUbdoyPfvCFv3kG1uWKSInsMlt9dpkPzn5EnN1vhKX3rvG73od069OFzFZ9gZRhqd9sfJEn+siIdmP1nuY/sU0zqJWp1QcUXWh6Y/Wd5i47K9HmVMPIWRfU+X568Qzr4zv/KEZ8kz+G9Ck/pozZX/1yGYVPJtpU6+v1cmV6Pwjr0VJurJh+XoXTnGkV2HySbK0I2V4SciZ1Unr1d4R35xKxgQIkHEFJ8B7erfMV78mVvlrPXBQq/5B7ZoltbHcsyjg59ZW/fR76sDJX/OE/FmxY2q/cCAPVhukvlz9tf8S//gHT1xDPeVtm+bSrNXKuO9/yffMX5ynrpYbW9+TfK+fA5tb/zr7I5XCdc1xYRo46TntbhL2bp8Gcz1G7Cf8tzJFuHP31JkT0Gq2DlAjnjk9R27K9VvOUHFa7+/LhtFKz+QnFDrlJM2qXye8pl2CsqW/mBTKX8fJoMp0tZLzykuKHXyOYKV+J1D8keESN/eYn2vfobRfY6T1LFk4HEax6QK7mLDr77NxVvXq6Izv2U/+NHajfhv2VzuHR4wXQVb16usHbdamTwFuXKEXPs/tUR21rewlwhOFDiAYQEX86uimPB966Xo8dwRd3yF9lik6yOFRQMw5CjU5rsKQMqPpVnxXtyb/hKrtSr5Op/uQxnuNURgQZjmqbMkryKon40u7KwVxR3s/hoxRerxSbKFnd2b/wu37dFUb3Pl2F3yBHbWuEpfU573cjugyVVHJpiSLI5XHIldZI3/7AkqWzvZsUPv1GSFNVraJ0fexveoZeOLn5HvpICRfUdLmdcxf1deMfeskdWvNrmjE+SryhXtoT2yl/+kUq2/ShJ8ubnyFeUV7FM6/YKa3uOJCm67wiVZW2SYXfIfWi3smf9RpJket1yxCUeV+IR3CjxAIKa70iW3Cvfk3f3ajm6naeosX+WLb6t1bGCkmHY5Ox6rhxdBsu7fanKV74vz/rP5Ur/qZx9LpFxkpFDINiYPq/8BQePjaxX+ydPmeQMly2+nWxxbWVv11vOvpdWTMcmybA7GyHR6X97ctWouWEYUuC8reYXu53i25ij+1+osPbdVLxthfa/8Tu1veXJitUc1W6bYZPp96t01zqV79+mDnf+jwyHU1kvPyLT56kjmBG43sge5yrxp/fVuNiTd6jGtCM6QeUHdwamvQVH5IhpOYctBjtKfD2Zpil5ymSWFcksL5ZZXlTtfOW/siKZ5UWSu7Tia9Wd4ZIzTIaj8tQZfmxetcsMZ5hUeVnVfNkcfO06Qpbp90vecpmeMslTLtNbJtNTXvE3VHUauLxMZu355cXy52TK0WWwIm/8k+wJHay+SSHBsNnk7DlCju7nybPle7lXfSB3xgK50n7agl+9qPy2XL9P8nkrvlDL75P8led9x85XXHbsvHzeY+tWLe/3SjJkuCJlhEXJCI+S4ao8DYuSwqJlhFVeFhbVSKWyJtPvrfg7q/xbqjovn7fRr/vsmTJLCwIl3Ze3X2bBIcn0y4iMl61Ve9ni2snZY0RFUW/VXkZkfKM+PoZ16KUjX8xS3NBr5CspUFnWJmnY6AbZdnjH3ireuFjh7bureNuKivu9Wjx5B+Vo1U7x510n96E98hzZJ9sJ3kzrLy+VLTxahsOpsn3b5Dm879h2jmSr/OAuuZI6q3jjEkX1G6HwDj115ItZFaU8trV8JYUyve7jthvRNU1HF7+jVhfeIn95iTw5exTWvkeD7AOcPUp8Le4NX1Ur4pUlvbxYqlbUazyTDtyBR1feWVec2mLayHBFVNzxVxUTb1nFS4CBQlMuuUurlZjy479+3bBXK/7HSr4cYTJc4RVPDFzhMhxVTwgqljOcEdWeJFTNqzxvs9d7vwS+UdLnlfxemZWnFQ9u3lrzKx/oGpppVl6Xr/K6PNUekGtnqprvOfbgXDtr1YOypMAIS+DxwKgxSmIELq/2gFHjwaOOy0NB4BNmzTrmHTtv1nm5WW21yjM+b7VCXi75jn9QkN1V83e56vfbEXbsdzUiNvDk1n7hRNlbd2qAG9vyGDaHXH0ulrPHcHk2LZR73WcVI5gtkWFINrtkc1QMrlSeymavGDWtPH+iywyHs2JQxWavGFm12Sv+BMqLZbqL5T98RKo8b5ZVPlZUvx90uAKPD9X/qfp0eEXZNz21nvi6y6o9GS6rdnlZjeWOL+tGxd+UPTQe6o3waNni28vWqoMc5wypKOvx7Sz7krbwDj0U0WWA9r78CzniExXeoWeDbTt28Cgdmv9PZb00ReGd+soeFS9J8hbmKufj59Vu3G9VtGGxitZ/K8PmkDOhrSK6DVT5vq11bi+iW7oKVi5Q1ktT5ErqLFdS58BlrqTOOvrdHHkOZyk8pa+iep0nw7CpzajJOjD3rxW/pzaHEq++T7aImh/La4+MVdy5P9XeGY/KMAwlXHbHGXUINA4+J76WXS//6lgZD4+qeadbvaiHR1cUeJutwa7bNE3J56ko956aI5amt9qoSo0Ry9Lj7tCPrVf5xEC1fsR2Z41yL4er4t3vtYpwxeiUp3Lad/x2jlP5sqHdIcOwN06htTurPbA6Ag+mRuV82RzVLrPLsDkle635VcvbHZUZDdVZSKXjS26NZeqaV7MDB7uKH1EdT2CqTmvPq/OJS7Vpu+PYE05H+PGvOjnCGvRvBghWpmlKXne1V2mLZJaXVLxKW14cOF/jVdzyYsnrOX7gpervyVX9yW71gZ0wyRlx/Dp2V4t/Jbelf9mTJ++QDr33D3W486+Nsvzpfr49GkdoPD1vQlHX/86y6zYMo2K0xuGSGugj4kzTL3k9Mj2ltV5mrRrNKZW87mOjT/aqYuyoMR04X6MkVx+VclLOAKCSYRiVT17DpOgEq+MAp8Ww2eQtOqrsN54KfFZ8Xaq+7MkeFduE6VAbI/G18I2tAAA0D405En/0+3dUvGlpjXnxF9yk6D7DGu06geoo8bVQ4gEAaB5a+uE0aN44/gEAAAAIMRwTDwBn4WBuieYvzlRRiUcOu01Ohy1w6qyadhhy2m1y1HVZHes4HDaFOW1qHRve4t+YCACoGyUeAM5Amdurj5bs1uc/7lH/c1qrR0q8PF6/vD5/4LTU7VVhacW0x+eXt/K04nJTHq+v8vTY5T7/sSMcu3eM0w0XdlXvzny5CgCgJo6Jr4Vj4gGcjGmaWr7poOZ+s0Mup13jL++h/l1bN9j2/aYpr9ev/GK3Pl2+R9+tzVavTvG6YWQ3dW3PJ0EA9cEx8WjOKPG1UOIBnMieg4X6zxdbtftQka4b0UU/GZIih71x31qUk1eqD77P1NINB5XarbWuH9lVKUnRp14RACUezRolvhZKPIDaiko9eu+7nfp2dbbO65usmy7uplYxYU2aIftwsd7/PlMrtxzSub2TNPqCc9Sudd1fwQ6gAiUezRklvhZKPIAqfr+pRWuzNW/RTiXEhmn8T3qqR8d4SzPtOVio9xbt1LqduRrev62uG9FFbeKt+Vp6INhR4tGc8RGTAFCH7Xvz9cfXVujdb3fohpFd9dQd51pe4CWpU3KMpoxN0xO3DdKRgjL95uVlev3zLTpaWG51NKDZOZhbol89s+iM1t2UmatXPlh/3Pysg4X6zfPfS5LyCsv1y39+qyl/X6i9hxpmEPHTJZn6z2ebj5s/bfZqHcwtOevtnEr24SL931ur6r0e6o9PpwGAavKKyjX3m+1avvGQLhrYXo+OS1d0hNPqWMfp3iFOj906UJt2H9W8RTv0xEtLddmgjrrq/E6KiXRZHQ9o8d79Zpsmje5/0mXWbstRny4JmjxmQKPnefiWgY1+HZLUvk20CordyjlaqsRWvErYmCjxACDJ6/PrixVZ+mDxLnVOitZTE4eoU3LwvxTfp3Mr/b/bBitjxxG9t2inFq7ZpyvOTdEV53ZSZDh38UBD8Pn8euXDDdq0K1c+n1+3jeqjof3a6j+fbdaR/DJlHSzU0cIy3Xdjmgb1SlJxqUc5eaVqW/m+lX05RXr6jRXy+kyl9UiUJO05UKBXP94or9evzbtz9fcpFx13veu2H9acr7bKbjOUdbBQN13aQwUlbn2/JlsJceF66q7zZLfbtGz9fs36cIOiIpzq3Da2zvL8m+e/1/03piklOUYTfr9AF6Z30JqtOWrfJkq/mThUdptxwu1k5xTphXczVFjqVlxUmB65daDKyn3648zl+vuUkTJNU7+a9p1+N+l8JSdEanDvJC3O2KcxF3VvxJ8KuIcH0OKt33lE//lym8rcXt1xZS+d1zc5pL5kyTAMpXVvowHdWmvllhy9/91OfbVyr0ad10mXD05RmMtudUQgpH2+fLeSEyJ1z5gBKinz6FfTvtOg3kmSpENHS/SXBy5Q5r58vfz+Og3qlaTte/PUpd2xj4Sd/v46jftJL53Xv52mz18nSerUNlbjr+ytvYcKNfGafie87l37C/TC45fK5zd1z1++1H03punZX12iP7/6g9ZuO6x+3Vpr+vvr9L8PXajYqDA98a/vTjkCnldYruED2umeMQP0368sU8a2HPXteuLtvDAvQw/dnK6khEh9v3afZn+xVffekKorzuus1z7eKL9p6urhXZScEClJ6tYhXvO/23FW+xynRokH0GIdyivV7K+2KWPHEV0xNEXXDu+icFfo3i3aDEPn9k7S4J6JWrrhgOZ/n6kvVuzVT4d11sXp7eV0UObRvHi8Ph3OL9OR/DIdzi9TTn5p4PyRgjK98YerGuR6Vm/NUdbBQn314x5JUmm5V7n5ZZKkc/sky24z1LVDXOCY86OF5YqNOnZYW2Z2vs7r306SdNHAjtq5L/+0r7tPlwRFVx4iFxnu1NC+yZKkTm1jlJNXon2HwpSSHKPWcRWFe/iA9ir3+E66zagIp/p3ayNJ6tohToeOlijuBNspKfNo065c/WnWckkVb/iveoXhugu76vHnvpPdZui+G1ID24+LdimP9+k0utB9tAKAM1Tu8emTpbv16fI96tullf406bzACFJzYLMZGjGgnc7rm6zvMvbrw8WZ+uyHPfrp+Z3VITFaYU67wl12hbnsCnNW/LPZQueVB7QcHq9fuQUV5bx6WT+cX6rDeWXKL3ZLkiLDHGoTF6428RFqExeubh3i1CY2vEGzPHzzQPU5J+G4+U5HxWeE2GyG/JUf+Ody2OTx+qstdeZ/X9W/i8JmHJu2GYb8ld/wXP2Vw9N5EbEq8+lsxzSl1rHhmvboJcdtp6Tcq+JSj5wOm7w+f2CgwO31y+Xgs1MaGyX+LPhNUx6PX+Ven9wen9wev9zeylOPTx6vX3a7TWFOm1xOu1wOm5xOu8IcldNOm+w2fsnRNNwenwpLPCosdauwxCOfz5Sr2u9m9dMwp00Ou61RDynx+02Veyr+dso9PpV7/JWnPrndvsB5fwN/CG6526cvV2bJYbPp/uv7K717m4a9giDisNt0ycAOGtG/rRau3qdPlu1WQYmnVrmo4HLYjpV6l13hTvspp12VTwCqmKr4Rlup4v5RFf+vPDVV9YHGZuV01eWmaVZb7hij8j+2yt/DqmlDRqBgGJXTMo6dP3aZEahOhhHYQotjs6niZ+WoeNxxOmwKq/z5uRwV0419+JhpmvL6/CqvfHx0e/2Bx81yr08ej18FJe5AOa8q6nlFFSU9IsyuNnEVBb11XLi6tosNnG8TF67I8MZ983laj0R9sjRTvTq3ks1maOe+fHXtEHfC5TsmReuzZbsD0+e0j9UPGw9oaN+2+m7NvgbN1iEpWnsOFupIfqniosO0ZN1+DeqV1GDbiYpwKjrSqVVbDmlQryR5fX7tP1yslOQYvTJ/vcZc1E25BeV66/Mtuv3qvpKk/YeL1DEE3lMU6ijxtbz++ZZjhbz6HU2t03KPX17f8Q+EkgJ3ik6HTT6/GdhWXV3EbjOqlaeqImUPFH+nw1Zj2uW0VY6iOSpG0ipH1MJdjooHWFfldOW6oXRcb7Dym2bgZ17u9h5XNstqFU+f36wxwhnmrDnieex8xc/0TL/xs9ztU2GJW4WlHhUUu2sU9MKSqlNPYJly97GXV6PCHXLYbYHfZ18dTdmQAr+DYdV+N09U/F1Om0xTtUp4tX1VVdbdJ/77qfp7CKv8PW+MEWLDkC5O76Arh6a0mMNLXE67rhjaSVcM7SRJ8vn9cnv8KnNX/5n4AtNlbm/l5d7AfLfHp6OF5YFlq8+vcKw824zKUi1JlUX6uGJdrXBXn65ar3r5l6nKJ3M1y37VEwYz8GTBDDxBqP6EIbBeC+XzVww4ub0+eX117wmX03bs77va33nVoJOz6gl+5WUydOLHycCAVsXfuruypNd1zQ67IWflNmMinIGi3qVtxWEdifFNU9JPZdSwLjpwpFgP//0b+c2Kkv7/Jg494fIpyTHKLSiTx+uX02HT5DED9PQbK/T6J5uU3jOxQbOFOe2adF1/PfnCYkVFONUp+dix+G8s2KQeHeMDh/Kc6XYeHT9YL7yToVkfbpDPb+qGi7vrcF6pDh0t0ZRxA+X1+fWraYs0IrW9unWM1/qdR87oiQTqhy97quV/Xv2hRkkJq3bn5XLaKu/A7Ce8w3M6bIFRo+qqj0J4Ak8E6rrTqzmaX15rZL/6A225u+LBtsxdMa92EbMZxrFSX0fhD69WLKWqEbDKB8FaI2XVR9JOelnFjW3MH1GD8gVGg/01Skl5tcLprmPUskbZdDmOlU6XXTbDqDm6XK341zUC6rAbgVGx4wp/5Xb9pgIFvaiyoFflMlRxfGNslEsxEU7FRDoVE+mqeRpx7HxUhPO4Jw5eX+XvZeD3seYTVo/32IjZsQfuqt/XY7/PhmHUKOCB2+U6dltcNS6z1bjNZ/qEBsDpqXoC5/b65fH4VF7H33ztx6Xyao9B7sp1TNOsMZp/7LGw+mPliZ7wH1unsV+NtvLLnuZ+tVXtE6M1IrW9ZRms4PP59ZvnF+sv94+Qnfv0RkWJBwAAaGCl5V6t3HxQF6R1sDpKkzqUW6L9R4oDH6WJxkOJBwAAsFBBsVu/fXFxjXmxUS796d4RFiVCKKDEAwAAACGGg5UAAACAEEOJBwAAAEIMJR4AAAAIMZR4AAAAIMRQ4gEAAIAQQ4kHAAAAQgwlHgAAAAgxDqsDBKtNmzZpwYIFKi0t1b333quEhASrIwWF7du3a8aMGbr44os1atQoq+MEhSVLlmj9+vXavXu3HnvsMcXHx1sdKShs2rRJy5Yt0549e/TQQw/xN1Rp4cKFevPNNzV9+nSrowSNefPmadu2bUpOTtYdd9whwzCsjmS5ffv2ad68eYqKitKYMWP4+6m0Zs0arVmzRsuWLdPdd9+tc8891+pIgGVa1Ei8x+PRuHHjNGTIEC1YsCAwf86cORo3bpwmTJigrKwsSdL8+fP14IMP6oYbbtBXX31lVeQmUZ/90r17d11//fVWRW0y9dknw4cP1z333KPk5GQVFhZaFblJ1Ge/9OnTR/Hx8Tp48KDsdrtVkRtdffbJxo0bVV5erpSUFKviNpn67Jfo6GhFRkbK6/XK7/dbFbnR1WefvPXWW4qNjZXf75fD0bzH2+qzX9LT0zVx4kS1atWKAo8Wr0WVeIfDoWnTpumOO+4IzMvLy9PcuXP1xhtv6LHHHtPTTz9tYUJrsF+OV999Mm/ePHXr1q3Zl7P67pfrr79eN998s3bv3m1F3CZRn32yaNEi7d+/X5s3b9a6deusitwk6rNfrrjiCj300ENKSUnRsmXLrIrc6OqzT9xutwYPHqxzzz1Xn3zyiVWRm0R971dWrlypgQMHWhEVCCrN++l9LYZhKCkpqca8jIwMDR06VA6HQ6mpqcrMzJQkjR49Ws8991zgcJrmrD775eDBg/rss89UWlqqvn37qlOnTlZEbnT12Sdz587Vl19+qWHDhmnfvn3q0KGDFZGbRH32y1dffaWdO3cqKytLDzzwgBVxm0R99knVfcmePXs0YMCAJs/alOqzXxYtWqTNmzdr7969euSRRyxI2zTqs09uuOEGzZ8/X5J00003NXnWplSf/SJJH374oZ544ommjgkEnRZV4uuSn5+vuLi4wLRpmpIqDgXo06ePVbEsd6L9kpycrKeeesqqWJY60T4ZO3asxo4da1Usy51ov1x22WW67LLLrIplqRPtkyr8DVWo2i8jR47UyJEjrYplqRPtk969e6t3795WxbLcyf6Gfv/731uQCAg+LepwmrrExsaqoKAgMG2ztfhdIon9Uhf2Sd3YL8djn9SN/XI89knd2C/AqbX4v4q0tDT9+OOP8vl82rBhgzp37mx1pKDAfjke+6Ru7JfjsU/qxn45HvukbuwX4NRa3OE0U6ZM0fr16xUZGamMjAw9/vjjGjNmjMaPHy+Hw6GpU6daHdES7JfjsU/qxn45HvukbuyX47FP6sZ+AerPMGsfrAkAAAAgqLX4w2kAAACAUEOJBwAAAEIMJR4AAAAIMZR4AAAAIMRQ4gEAAIAQQ4kHAAAAQgwlHgAAAAgxlHgAAAAgxFDiAQAAgBBDiQcAAABCDCUeAAAACDGUeAAAACDEUOIBAACAEEOJBwAAAEIMJR4AAAAIMZR4AAAAIMRQ4gEAAIAQQ4kHAAAAQgwlHgAAAAgxlHgAAAAgxFDiATSqXr166bnnngtMP/HEE1q0aNFZb3fevHl6+umnz3o7J3PkyBHddNNNGjNmjHbu3Nmo1wUAQH1Q4gE0qujoaL333nsqLS21OkqAz+c7reWWLl2qgQMH6v3331fXrl3PalsAADQkSjyARhUeHq4rrrhC77zzznGXXXrppSovL5dUc2R9woQJ+utf/6oxY8boxhtv1Lp163THHXfosssu08KFCwPr79mzR7feequuvPJKvf3224H5L7zwgm688UZde+21mjNnTmD7Dz/8sG677TY9/vjjNXKUlpbql7/8pa699lqNGzdOmZmZ2r59u55++ml9/PHHGjt2bI3l9+7dq9GjR2vKlCm6+uqr61xfkq655hq53W7l5eWpd+/e2rhxoyTpqquuktfr1auvvqpRo0bpuuuu09SpU89yTwMAWhKH1QEANH8TJ07U7bffrltvvfW014mPj9f777+vP//5z/rjH/+o119/XZmZmfrd736niy++WJK0fv16ffDBB5KkG2+8UZdccom2bNmi3Nxcvfvuu3K73Ro/fnxg+S1btujdd99VdHR0jet64403lJCQoA8//FDffvut/vCHP+jVV1/Vww8/rJ07d+pXv/rVcfmqSn6PHj00ffr0Otfv37+/1q1bp4KCAvXt21erV69WQkKC2rRpI4fDoRdffFELFy5UeHi4CgsLz2znAgBaJEbiATS65ORkDR48WJ988slpr1NVvHv27KmBAwcqLCxMPXv2VHZ2dmCZkSNHKjo6WtHR0Ro2bJjWrVunJUuW6JtvvtHo0aM1duxYHTlyRHv27JEkXXjhhccVeElavXq1rrvuOknSRRddpB07dpwyX9euXdWjR4+Trj9o0CCtWrVKq1at0qRJkwLnBw0aJEnq16+fHnvsMX388cdyuVynvW8AAKDEA2gSd999t2bOnFljns1mk9/vlyS53e4alzmdzsAy1c9XLS9JhmEcd940TU2ZMkXz58/X/Pnz9fXXX2vIkCGSKg7taSgRERGnXGbgwIFatWqVNmzYoMsvv1wHDhyoUeJffvll3Xrrrfrhhx80adKkBssGAGj+KPEAmkS3bt3UoUMHLV26NDCvffv22rRpk/x+f41j3U/XokWLVFRUpKKiIi1dulQDBgzQ8OHD9c477wSOtd+5c2fg/IkMHDgw8CrBokWL1L1793rlONH63bt3144dO2Saplwul9q2basvv/xS6enp8vv9OnDggIYPH64nnngicBw9AACng2PiATSZyZMn65ZbbglM33ffffr1r3+tVq1aqXfv3vXeXr9+/TR58mTl5ubqzjvvVHJyspKTk7V161bddNNNMk1TCQkJevHFF0+6ndtuu01PPvmkrr32WkVFRekvf/lLvXKcaH3DMNSlS5fAYTeDBg3S5s2bFRcXJ4/Ho0cffVTFxcWSpClTptT79gMAWi7DNE3T6hAAAAAATh+H0wAAAAAhhhIPAAAAhBhKPAAAABBiKPEAAABAiKHEAwAAACGGEg8AAACEGEo8AAAAEGIo8QAAAECI+f+VDpm111uAsQAAAABJRU5ErkJggg==",
              "ok": true,
              "headers": [
                [
                  "content-type",
                  "image/png"
                ]
              ],
              "status": 200,
              "status_text": ""
            }
          },
          "base_uri": "https://localhost:8080/",
          "height": 470
        },
        "id": "_ElnkbwWurMO",
        "outputId": "9d3b6d1c-1a75-4767-ac10-191d69907215"
      },
      "execution_count": 26,
      "outputs": [
        {
          "output_type": "display_data",
          "data": {
            "text/plain": [
              "<IPython.core.display.HTML object>"
            ],
            "text/html": [
              "<img src='/nbextensions/out.png' />\n"
            ]
          },
          "metadata": {}
        }
      ]
    },
    {
      "cell_type": "markdown",
      "source": [
        "We get a breakdown of some of the mix details for primary_breed when breed_group is \"MIX\". I'd like to plot this to visualize the MIX breeds that are more frequently listed and if that correlates with the top 10 breeds in the following graph."
      ],
      "metadata": {
        "id": "40RGpzyvJp8n"
      }
    },
    {
      "cell_type": "code",
      "source": [
        "#Look at Unknown values. Unknowns include NaN converted to \"U\" signifier\n",
        "nan_count = df_md.isna().sum().sum()\n",
        "#print(\"Percent of Unknown age: \", (df_md['age']==0.sum() / len(df_md) *100).round(2))\n",
        "#print(\"Percent of Unknown gender: \", (df_md['gender'].isna().sum().sum() / len(df_md) *100).round(2))\n",
        "#print(\"Percent of Unknown breed_group: \", (df_md['breed_group'].isna().sum().sum() / len(df_md) *100).round(2))\n",
        "#print(\"Percent of Unknown primary_breed: \", (df_md['primary_breed'].isna().sum().sum() / len(df_md) *100).round(2))\n",
        "print(\"Percent of MIX breed in the dataset: \", (df_md['primary_breed'].str.contains('MIX', case=False, na=False).sum() / len(df_md) *100).round(2))\n",
        "print(\"Percent of PIT BULL breed in the dataset: \", (df_md['primary_breed'].str.contains('PIT BULL', case=False, na=False).sum() / len(df_md) *100).round(2))\n",
        "print(\"Percent of CHIHUAHUA breed in the dataset: \", (df_md['primary_breed'].str.contains('CHIHUAHUA', case=False, na=False).sum() / len(df_md) *100).round(2))\n",
        "print(\"Mean age for all bite incidents: \", np.mean(df_md['age']).round(2))\n",
        "print(\"Min age for all bite incidents: \", np.min(df_md['age']))\n",
        "print(\"Max age for all bite incidents: \", np.max(df_md['age']))\n",
        "#Look at MIX breeds and see if there is a correlation between top 10 breeds with bite incidents and mixes containing those breeds\n",
        "print(\"MIX breed where primary_breed contains 'oodle': \", (df_md[df_md['primary_breed'].str.contains('oodle', case=False, na=False)]['breed_group_S'].str.contains('MIX', case=False)).sum())\n",
        "print(\"MIX breed where primary_breed contains '/' (implies a mix or cross): \", (df_md[df_md['primary_breed'].str.contains('/', case=False, na=False)]['breed_group_S'].str.contains('MIX', case=False)).sum())\n",
        "print(\"MIX breed where primary_breed contains 'Terrier': \", (df_md[df_md['primary_breed'].str.contains('terrier', case=False, na=False)]['breed_group_S'].str.contains('MIX', case=False)).sum())\n",
        "print(\"MIX breed where primary_breed contains 'shih': \", (df_md[df_md['primary_breed'].str.contains('shih', case=False, na=False)]['breed_group_S'].str.contains('MIX', case=False)).sum())\n",
        "print(\"MIX breed where primary_breed contains 'chi': \", (df_md[df_md['primary_breed'].str.contains('chi', case=False, na=False)]['breed_group_S'].str.contains('MIX', case=False)).sum())\n",
        "print(\"MIX breed where primary_breed contains 'germ': \", (df_md[df_md['primary_breed'].str.contains('germ', case=False, na=False)]['breed_group_S'].str.contains('MIX', case=False)).sum())\n",
        "print(\"MIX breed where primary_breed contains 'york': \", (df_md[df_md['primary_breed'].str.contains('york', case=False, na=False)]['breed_group_S'].str.contains('MIX', case=False)).sum())\n",
        "print(\"MIX breed where primary_breed contains 'lab': \", (df_md[df_md['primary_breed'].str.contains('lab', case=False, na=False)]['breed_group_S'].str.contains('MIX', case=False)).sum())\n",
        "print(\"MIX breed where primary_breed contains 'malt': \", (df_md[df_md['primary_breed'].str.contains('malt', case=False, na=False)]['breed_group_S'].str.contains('MIX', case=False)).sum())\n",
        "print(\"MIX breed where primary_breed contains 'pit': \", (df_md[df_md['primary_breed'].str.contains('pit', case=False, na=False)]['breed_group_S'].str.contains('MIX', case=False)).sum())\n",
        "print(\"MIX breed where primary_breed contains 'pom': \", (df_md[df_md['primary_breed'].str.contains('pom', case=False, na=False)]['breed_group_S'].str.contains('MIX', case=False)).sum())\n",
        "#df_md.sample(n=10)"
      ],
      "metadata": {
        "colab": {
          "base_uri": "https://localhost:8080/"
        },
        "id": "vuZ3t6l5qxcn",
        "outputId": "86b964df-4ae0-450f-c41c-ccf630c19621"
      },
      "execution_count": 29,
      "outputs": [
        {
          "output_type": "stream",
          "name": "stdout",
          "text": [
            "Percent of MIX breed in the dataset:  15.83\n",
            "Percent of PIT BULL breed in the dataset:  27.64\n",
            "Percent of CHIHUAHUA breed in the dataset:  9.81\n",
            "Mean age for all bite incidents:  2.34\n",
            "Min age for all bite incidents:  0.0\n",
            "Max age for all bite incidents:  21.0\n",
            "MIX breed where primary_breed contains 'oodle':  328\n",
            "MIX breed where primary_breed contains '/' (implies a mix or cross):  1245\n",
            "MIX breed where primary_breed contains 'Terrier':  263\n",
            "MIX breed where primary_breed contains 'shih':  224\n",
            "MIX breed where primary_breed contains 'chi':  229\n",
            "MIX breed where primary_breed contains 'germ':  132\n",
            "MIX breed where primary_breed contains 'york':  157\n",
            "MIX breed where primary_breed contains 'lab':  346\n",
            "MIX breed where primary_breed contains 'malt':  185\n",
            "MIX breed where primary_breed contains 'pit':  31\n",
            "MIX breed where primary_breed contains 'pom':  47\n"
          ]
        }
      ]
    },
    {
      "cell_type": "markdown",
      "source": [
        "Here we get an idea of reported incidents by severity. While a later display will show a correlation between gender and bite severity, here we see that more severe incidents occur much less frequently than milder incidents like a nip or single bite."
      ],
      "metadata": {
        "id": "LlQgbVAjI90x"
      }
    },
    {
      "cell_type": "code",
      "source": [
        "sns.scatterplot(x = 'breed_group_S', y = 'bite_severity', data=df_md, hue='gender')"
      ],
      "metadata": {
        "colab": {
          "base_uri": "https://localhost:8080/",
          "height": 478
        },
        "id": "4LBVWr7OaBpv",
        "outputId": "f162d768-49e7-41b0-eb29-60483e3ce102"
      },
      "execution_count": 30,
      "outputs": [
        {
          "output_type": "execute_result",
          "data": {
            "text/plain": [
              "<AxesSubplot:xlabel='breed_group_S', ylabel='bite_severity'>"
            ]
          },
          "metadata": {},
          "execution_count": 30
        },
        {
          "output_type": "display_data",
          "data": {
            "text/plain": [
              "<Figure size 648x504 with 1 Axes>"
            ],
            "image/png": "[encoded data removed]"
          },
          "metadata": {}
        }
      ]
    },
    {
      "cell_type": "markdown",
      "source": [
        "Age of dogs by breed at the time of an incident. Typo outlier removed from dataset."
      ],
      "metadata": {
        "id": "IUJ8N_AiD65t"
      }
    },
    {
      "cell_type": "code",
      "source": [
        "sns.scatterplot(x = 'breed_group_S', y = 'age', data=df_md)"
      ],
      "metadata": {
        "colab": {
          "base_uri": "https://localhost:8080/",
          "height": 475
        },
        "id": "p43OKPVCBfIE",
        "outputId": "8ef2617b-bf09-4b08-ddef-5b8022cad1a5"
      },
      "execution_count": 31,
      "outputs": [
        {
          "output_type": "execute_result",
          "data": {
            "text/plain": [
              "<AxesSubplot:xlabel='breed_group_S', ylabel='age'>"
            ]
          },
          "metadata": {},
          "execution_count": 31
        },
        {
          "output_type": "display_data",
          "data": {
            "text/plain": [
              "<Figure size 648x504 with 1 Axes>"
            ],
            "image/png": "[encoded data removed]"
          },
          "metadata": {}
        }
      ]
    },
    {
      "cell_type": "markdown",
      "source": [
        "Bite code by gender, we see overwhelmingly the most severe bite type occurs with neutered males. This is not consistent with perception and general biases."
      ],
      "metadata": {
        "id": "n7FrazX0H1Rf"
      }
    },
    {
      "cell_type": "code",
      "source": [
        "age_analysis = df_md.groupby(['gender_S', 'bite_code']).size().reset_index(name='bite code')\n",
        "sns.barplot(x=\"gender_S\", y=\"bite code\", data=age_analysis).set_title(\"Bite incident by gender\")"
      ],
      "metadata": {
        "id": "7oPrmeqs_NHb",
        "colab": {
          "base_uri": "https://localhost:8080/",
          "height": 523
        },
        "outputId": "4d79c1fa-ab9b-4766-ae22-d66e7764ab67"
      },
      "execution_count": 32,
      "outputs": [
        {
          "output_type": "execute_result",
          "data": {
            "text/plain": [
              "Text(0.5, 1.0, 'Bite incident by gender')"
            ]
          },
          "metadata": {},
          "execution_count": 32
        },
        {
          "output_type": "display_data",
          "data": {
            "text/plain": [
              "<Figure size 648x504 with 1 Axes>"
            ],
            "image/png": "[encoded data removed]"
          },
          "metadata": {}
        }
      ]
    },
    {
      "cell_type": "markdown",
      "source": [
        "Top 10 breeds for all bite data in the dataset:"
      ],
      "metadata": {
        "id": "7ocKN-kkIvAL"
      }
    },
    {
      "cell_type": "code",
      "source": [
        "df_md['breed_group_S'].value_counts().nlargest(10).plot(kind='bar')"
      ],
      "metadata": {
        "id": "KNwwFVB9IUUG",
        "colab": {
          "base_uri": "https://localhost:8080/",
          "height": 513
        },
        "outputId": "921f4ff1-cd53-423f-9a38-2abc124f8d4b"
      },
      "execution_count": 33,
      "outputs": [
        {
          "output_type": "execute_result",
          "data": {
            "text/plain": [
              "<AxesSubplot:>"
            ]
          },
          "metadata": {},
          "execution_count": 33
        },
        {
          "output_type": "display_data",
          "data": {
            "text/plain": [
              "<Figure size 648x504 with 1 Axes>"
            ],
            "image/png": "[encoded data removed]"
          },
          "metadata": {}
        }
      ]
    },
    {
      "cell_type": "markdown",
      "source": [
        "As you can see pitbull is the leading bite breed."
      ],
      "metadata": {
        "id": "KOUCVTjdlbgS"
      }
    },
    {
      "cell_type": "markdown",
      "source": [
        "Average weights by breed"
      ],
      "metadata": {
        "id": "FTSBTeEUQQjf"
      }
    },
    {
      "cell_type": "code",
      "source": [
        "plt.scatter(x = 'breed_group', y = 'average_weight', data=df_be, s=30)\n",
        "plt.xlabel(\"Breeds\")\n",
        "plt.yticks(rotation=45)\n",
        "plt.ylabel(\"Average Weight\")\n",
        "\n",
        "plt.show()"
      ],
      "metadata": {
        "id": "LNRM2rrWP1Tb"
      },
      "execution_count": null,
      "outputs": []
    },
    {
      "cell_type": "code",
      "source": [
        "sns.pairplot(df_md)\n",
        "plt.show()"
      ],
      "metadata": {
        "id": "8mZpgntl-wFx"
      },
      "execution_count": null,
      "outputs": []
    },
    {
      "cell_type": "markdown",
      "source": [
        "# Machine Learning"
      ],
      "metadata": {
        "id": "QkQi3Q4iPRCR"
      }
    },
    {
      "cell_type": "code",
      "source": [
        "#REMOVE THIS IF IT IS NOT USEFUL IT DOES NOT WORK AS-IS***\n",
        "# From W7 lab 1\n",
        "#Do you mean this lab?\n",
        "#https://csumb.instructure.com/courses/19519/pages/lab-solutions-data-exploration-knn?module_item_id=1005002 \n",
        "#or\n",
        "#https://colab.research.google.com/drive/1_R-S7u-LrnUdATOVfopuBcLU-uJFgzoW?usp=sharing \n",
        "\n",
        "# use only numeric data, and scale it\n",
        "df = df_final[['age']]\n",
        "weight = df_final['average_weight']\n",
        "X = df.apply(zscore).values\n",
        "y = weight.values\n",
        "X_train, X_test, y_train, y_test = train_test_split(X, y, test_size=0.30, random_state=42)\n",
        "\n",
        "# see how knn classifier works as training size changes\n",
        "scaler = StandardScaler()\n",
        "X_train = scaler.fit_transform(X_train)\n",
        "X_test = scaler.transform(X_test)\n",
        "print(X_train[:10,:])\n",
        "\n",
        "k = 3\n",
        "knn = KNeighborsClassifier(n_neighbors=k)\n",
        "te_errs = []\n",
        "tr_errs = []\n",
        "tr_sizes = np.linspace(100, X_train.shape[0], 10).astype(int)\n",
        "for tr_size in tr_sizes:\n",
        "  X_train1 = X_train[:tr_size,:]\n",
        "  y_train1 = y_train[:tr_size]\n",
        "  \n",
        "  # train model on a subset of the training data\n",
        "  knn.fit(X_train1, y_train1)\n",
        "\n",
        "  # error on subset of training data\n",
        "tr_predicted = knn.predict(X_train1)\n",
        "err = (tr_predicted != y_train1).mean()\n",
        "tr_errs.append(err)\n",
        "  \n",
        "  # error on all test data\n",
        "te_predicted = knn.predict(X_test)\n",
        "err = (te_predicted != y_test).mean()\n",
        "te_errs.append(err)\n",
        "\n",
        "#plt.plot(tr_sizes, te_errs, label = '')\n",
        "#plt.plot(tr_sizes, tr_errs, label = '')\n",
        "plt.legend()\n",
        "#plt.title('')\n",
        "plt.xlabel('age')\n",
        "plt.ylabel('bite code')"
      ],
      "metadata": {
        "id": "v-Snt_M4Ld72"
      },
      "execution_count": null,
      "outputs": []
    },
    {
      "cell_type": "code",
      "source": [
        "#ML using KNN\n",
        "df_final.info()\n",
        "df_final = df_final.dropna()\n",
        "\n",
        "#Predict the likelihood of a bite incident occuring in a dog's life by breed\n",
        "predictors =['age', 'gender', 'average_weight', 'average_height', 'average_lifespan']\n",
        "#gender is an object (change to numbers)\n",
        "\n",
        "#labeling encoder target is label \n",
        "target = 'breed_group'\n",
        "X = df_final[predictors].values.astype(int) #ERROR TO DROP NA\n",
        "y = (df_final[target]).values.astype(int)\n",
        "\n",
        "X_train, X_test, y_train, y_test = train_test_split(X,y, test_size=0.3, random_state=42)\n",
        "\n",
        "#Scale data\n",
        "\n",
        "X_train = scaler.fit_transform(X_train)\n",
        "X_test = scaler.transform(X_test)\n",
        "\n",
        "regr = KNeighborsRegressor()\n",
        "regr.fit(X_train, y_train)\n",
        "\n",
        "#make predictions\n",
        "predictions = regr.predict(X_test)\n",
        "print(predictions[:10].astype(int))\n",
        "print(y_test[:10])\n",
        "\n",
        "#Compute Mean Squared Error of Predictions\n",
        "mse= ((predictions - y_test) ** 2).mean()\n",
        "print('MSE: {0: .0f}'.format(mse))\n",
        "\n",
        "#plot prediction error as histogram\n",
        "plt.figure(figsize=(8,6))\n",
        "sns.distplot(predictions - y_test, kde=False)\n",
        "plt.title('Histogram of Prediction error')\n",
        "plt.xlabel('Absolute difference between prediction and actual values')\n",
        "plt.xlim(-12000, 12000);\n",
        "\n",
        "#after this compare with linear regression\n",
        "\n"
      ],
      "metadata": {
        "id": "98SR69lKhBBd"
      },
      "execution_count": null,
      "outputs": []
    },
    {
      "cell_type": "markdown",
      "source": [],
      "metadata": {
        "id": "3CmO4lSqgn-l"
      }
    },
    {
      "cell_type": "markdown",
      "source": [
        "As we are looking for any linear relationship, we can tell that as the average height increases, the average weight increases too.  There is no data for age and bite_code yet."
      ],
      "metadata": {
        "id": "hDTEETuVne93"
      }
    },
    {
      "cell_type": "markdown",
      "source": [
        "We are going to start by using linear regression for the machine learning."
      ],
      "metadata": {
        "id": "6Elwl9y_QJAX"
      }
    },
    {
      "cell_type": "markdown",
      "source": [
        "We are going to predict the likelihood of a bite incident occuring in a dog's lifetime based on size, breed, and age. "
      ],
      "metadata": {
        "id": "QJVWh5jGR1Fv"
      }
    },
    {
      "cell_type": "markdown",
      "source": [
        "We will compare this data by people's perception based on breed banning in different states."
      ],
      "metadata": {
        "id": "6aGi0cxhR_YZ"
      }
    },
    {
      "cell_type": "markdown",
      "source": [
        "# Conclusion"
      ],
      "metadata": {
        "id": "Zsl0YDkKSN0t"
      }
    },
    {
      "cell_type": "markdown",
      "source": [
        "Our goal is to help people understand that all dogs need to be trained regardless of breed.  \n",
        "We hope to give knowledge to everyone to help find the breeds that are suitable for them to prevent people from giving up their dogs."
      ],
      "metadata": {
        "id": "tHYjae7vSGOX"
      }
    }
  ]
}